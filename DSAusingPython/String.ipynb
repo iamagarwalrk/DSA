{
 "cells": [
  {
   "cell_type": "code",
   "execution_count": 1,
   "id": "778e0d79",
   "metadata": {},
   "outputs": [
    {
     "name": "stdout",
     "output_type": "stream",
     "text": [
      "RISHABH\n",
      "2\n",
      "Rislabl\n",
      "True\n"
     ]
    }
   ],
   "source": [
    "a=\"Rishabh\"\n",
    "print(a.upper())\n",
    "print(a.find('s'))\n",
    "print(a.replace('h', 'l'))\n",
    "print(a.isalpha())"
   ]
  },
  {
   "cell_type": "code",
   "execution_count": 3,
   "id": "148a38b3",
   "metadata": {},
   "outputs": [
    {
     "name": "stdout",
     "output_type": "stream",
     "text": [
      "Enter any string:\n",
      "rish\n",
      "Enter any string:\n",
      "rish\n",
      "True\n"
     ]
    }
   ],
   "source": [
    "# compare string\n",
    "\n",
    "def helper(str1, str2):\n",
    "    \n",
    "    if(str1==str2):\n",
    "        return True\n",
    "    else:\n",
    "        return False\n",
    "\n",
    "str1=input(\"Enter any string:\\n\")\n",
    "str2=input(\"Enter any string:\\n\")\n",
    "\n",
    "print(helper(str1, str2))"
   ]
  },
  {
   "cell_type": "code",
   "execution_count": 1,
   "id": "a6c4ee92",
   "metadata": {},
   "outputs": [
    {
     "name": "stdout",
     "output_type": "stream",
     "text": [
      "['my', 'name', 'is', 'ram']\n",
      "['my n', 'me is r', 'm']\n"
     ]
    }
   ],
   "source": [
    "# split\n",
    "\n",
    "a=\"my name is ram\"\n",
    "print(a.split()) # split by space\n",
    "print(a.split('a')) # split by 'a'"
   ]
  },
  {
   "cell_type": "code",
   "execution_count": 1,
   "id": "bd2f534b",
   "metadata": {},
   "outputs": [
    {
     "name": "stdout",
     "output_type": "stream",
     "text": [
      "enter any string:\n",
      "dfghjkl hjk dfhjkl fghjkl\n",
      "lkjhgf lkjhfd kjh lkjhgf\n"
     ]
    }
   ],
   "source": [
    "# reverse string\n",
    "def helper(sen):\n",
    "    ans=sen[-1:0:-1] #first letter excluded\n",
    "    return ans\n",
    "sen=input(\"enter any string:\\n\")\n",
    "sen=helper(sen)\n",
    "print(sen)"
   ]
  },
  {
   "cell_type": "code",
   "execution_count": null,
   "id": "0d958aa9",
   "metadata": {},
   "outputs": [],
   "source": []
  },
  {
   "cell_type": "code",
   "execution_count": 26,
   "id": "16e0202d",
   "metadata": {},
   "outputs": [
    {
     "name": "stdout",
     "output_type": "stream",
     "text": [
      "True\n",
      "3\n",
      "1\n",
      "Start index of Imag:  12\n",
      "End index of Imag:  16\n",
      "<re.Match object; span=(0, 1), match='R'>\n",
      "<re.Match object; span=(10, 11), match='.'>\n",
      "<re.Match object; span=(3, 4), match='A'>\n",
      "None\n",
      "None\n",
      "['8', '9', '7', '9', '2', '5', '5', '6', '6', '5', '7', '9', '4', '6', '2', '2', '6']\n",
      "['8979255665', '7946226']\n",
      "['b', 'e', 'a', 'd', 'e', 'd', 'b', 'e']\n"
     ]
    }
   ],
   "source": [
    "# regular equation: regex - find string by special method\n",
    "\n",
    "import re\n",
    "\n",
    "str1=\"RK Agarwal. Imaginary friend of mine: ABCD\"\n",
    "print(\"K\" in str1) # to check string\n",
    "print(str1.find(\"Agar\"))  # to find string\n",
    "print(str1.index(\"K A\")) # to give index\n",
    "\n",
    "re_str=re.search(\"Imag\", str1) \n",
    "print(\"Start index of Imag: \", re_str.start())\n",
    "print(\"End index of Imag: \", re_str.end())\n",
    "\n",
    "# meta character in re module\n",
    "\n",
    "re_str1=re.search(\".\", str1)\n",
    "print(re_str1)\n",
    "\n",
    "re_str1=re.search(\"\\.\", str1) # \\ help to consider meta character/symbol as string part only\n",
    "print(re_str1)\n",
    "\n",
    "\n",
    "re_str1=re.search(\"[A-D]\", str1) # \\ help to consider - not working\n",
    "print(re_str1)\n",
    "\n",
    "re_str1=re.search(\"^A\", str1) # \\ help to find any word start from \"A\" - not working\n",
    "print(re_str1)\n",
    "\n",
    "re_str1=re.search(\"l$\", str1) # \\ help to find any word end from \"l\" - not working\n",
    "print(re_str1)\n",
    "\n",
    "\n",
    "#SPECIAL Sequauence also in regex module\n",
    "\n",
    "str2=\"My number is 8979255665 and friend's number is 7946226\"\n",
    "\n",
    "regex=\"\\d\" # to consider each number\n",
    "re_str2=re.findall(regex, str2)\n",
    "print(re_str2)\n",
    "\n",
    "regex2=\"\\d+\" # to consider number collectively\n",
    "re_str3=re.findall(regex2, str2)\n",
    "print(re_str3)\n",
    "\n",
    "regex3=re.compile('[a-e]') # only consider alphabet a-e\n",
    "print(re.findall(regex3, str2))"
   ]
  },
  {
   "cell_type": "code",
   "execution_count": 9,
   "id": "9620a3f4",
   "metadata": {},
   "outputs": [
    {
     "name": "stdout",
     "output_type": "stream",
     "text": [
      "abcde\n",
      "aeb\n",
      "False\n",
      "False\n"
     ]
    }
   ],
   "source": [
    "# Does s contain t ?\n",
    "\n",
    "# Recursive method\n",
    "def helper_rec(str1, str2, idx1, idx2):\n",
    "    \n",
    "    n, m=len(str1), len(str2)\n",
    "    if(idx2==m):\n",
    "        return True\n",
    "    elif(idx1==n):\n",
    "        return False\n",
    "    elif(str1[idx1]==str2[idx2]):\n",
    "        return helper_rec(str1, str2, idx1+1, idx2+1)\n",
    "    else: return helper_rec(str1, str2, idx1+1, idx2)\n",
    "    \n",
    "\n",
    "\n",
    "#non-recursive method\n",
    "def helper(str1, str2):\n",
    "    \n",
    "    i,j=0, 0\n",
    "    n, m=len(str1),len(str2) \n",
    "    while(i<n and j<m):\n",
    "        if(str1[i]==str2[j]):\n",
    "            i+=1\n",
    "            j+=1\n",
    "        else: i+=1\n",
    "    if(j==m):\n",
    "        return True\n",
    "    else: return False\n",
    "    \n",
    "        \n",
    "    \n",
    "\n",
    "st1=input()\n",
    "st2=input()\n",
    "\n",
    "ans1=helper(st1, st2)\n",
    "ans2=helper_rec(st1, st2, 0, 0)\n",
    "\n",
    "print(ans1)\n",
    "print(ans2)"
   ]
  },
  {
   "cell_type": "code",
   "execution_count": 15,
   "id": "88284057",
   "metadata": {},
   "outputs": [
    {
     "name": "stdout",
     "output_type": "stream",
     "text": [
      "30 20 53 14\n",
      "60\n"
     ]
    }
   ],
   "source": [
    "# Maximum Profit on App\n",
    "\n",
    "def helper(arr):\n",
    "    \n",
    "    n=len(arr)\n",
    "    arr.sort()\n",
    "    maxprofit=0\n",
    "    \n",
    "    for i in range(n):\n",
    "        profit=arr[i]*(n-i)\n",
    "        if(profit>maxprofit):\n",
    "            maxprofit=profit\n",
    "    return maxprofit\n",
    "    \n",
    "\n",
    "arr=list(map(int, input().split()))\n",
    "ans=helper(arr)\n",
    "print(ans)"
   ]
  },
  {
   "cell_type": "code",
   "execution_count": null,
   "id": "9febd3e1",
   "metadata": {},
   "outputs": [],
   "source": [
    "# Split Array\n",
    "\n",
    "def helper_merge(temp, idx, sum1, sum2, bal):\n",
    "    \n",
    "    if(len(temp)==idx):\n",
    "        if((sum1+bal)==sum2 or (sum2+bal)==sum1):\n",
    "            return True\n",
    "        else: return False\n",
    "    \n",
    "    else: return (helper_merge(temp, idx+1, sum1+temp[idx], sum2, bal) or helper_merge(temp, idx+1), sum1, sum2+temp[idx], bal)\n",
    "\n",
    "def helper(arr):\n",
    "    \n",
    "    temp=[]\n",
    "    sum5, sum3=0, 0\n",
    "    for ele in arr:\n",
    "        if(ele%5==0):\n",
    "            sum5+=ele\n",
    "        elif(ele%3==0):\n",
    "            sum3+=ele\n",
    "        else:\n",
    "            temp.append(ele)\n",
    "    \n",
    "    balance=sum5-sum3\n",
    "    \n",
    "    return (helper_merge(temp, 1, temp[0], 0, balance) or helper_merge(temp, 1, 0, temp[0], balance)\n",
    "        \n",
    "\n",
    "arr=[int(x) for x in input().split()]\n",
    "ans=helper(arr)\n",
    "print(ans)"
   ]
  },
  {
   "cell_type": "code",
   "execution_count": null,
   "id": "4d4f9441",
   "metadata": {},
   "outputs": [],
   "source": []
  }
 ],
 "metadata": {
  "kernelspec": {
   "display_name": "Python 3 (ipykernel)",
   "language": "python",
   "name": "python3"
  },
  "language_info": {
   "codemirror_mode": {
    "name": "ipython",
    "version": 3
   },
   "file_extension": ".py",
   "mimetype": "text/x-python",
   "name": "python",
   "nbconvert_exporter": "python",
   "pygments_lexer": "ipython3",
   "version": "3.10.9"
  }
 },
 "nbformat": 4,
 "nbformat_minor": 5
}
