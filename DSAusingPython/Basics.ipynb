{
 "cells": [
  {
   "cell_type": "code",
   "execution_count": 1,
   "id": "0fac3d9d",
   "metadata": {},
   "outputs": [
    {
     "name": "stdout",
     "output_type": "stream",
     "text": [
      "(a+b)\n"
     ]
    }
   ],
   "source": [
    "#print all in \"\"\n",
    "print(\"(a+b)\")"
   ]
  },
  {
   "cell_type": "code",
   "execution_count": 6,
   "id": "8ea59b94",
   "metadata": {},
   "outputs": [
    {
     "name": "stdout",
     "output_type": "stream",
     "text": [
      "<class 'int'>   <class 'float'>   <class 'float'>   <class 'str'>   <class 'str'>   <class 'list'>   <class 'set'>   <class 'dict'>   <class 'tuple'>\n"
     ]
    }
   ],
   "source": [
    "# data types in python (all data types are dynamic in python)\n",
    "\n",
    "a=1\n",
    "b=1.0\n",
    "c=2382382032382365615123323131313.6565111111111155 #no double data type\n",
    "d='t' #no char data type\n",
    "e=\"fghjkh\"\n",
    "f=[] #list\n",
    "g={\"hjhj\", \"hhj\"} #set\n",
    "h={\"ss\":\"asd\"} #dict\n",
    "i=(1, 2, 8) #tuple\n",
    "\n",
    "print(type(a), \" \", type(b), \" \", type(c), \" \", type(d), \" \", type(e), \" \", type(f), \" \", type(g), \" \", type(h), \" \", type(i))"
   ]
  },
  {
   "cell_type": "code",
   "execution_count": 16,
   "id": "b71b6c71",
   "metadata": {},
   "outputs": [
    {
     "name": "stdout",
     "output_type": "stream",
     "text": [
      "2003338854928   2003338854928\n",
      "2003338854960\n",
      "2003338854928\n",
      "10   8\n",
      "2003338854928   2003338854864\n"
     ]
    },
    {
     "data": {
      "text/plain": [
       "'\\nmemory space also controlled by python: Heap & Stack\\nObjects are created in heap memory but reference are in stack memory\\neach function use different set of stack \\n\\n'"
      ]
     },
     "execution_count": 16,
     "metadata": {},
     "output_type": "execute_result"
    }
   ],
   "source": [
    "# memeory allocation in python \n",
    "\n",
    "a=10\n",
    "b=a\n",
    "print(id(a), \" \", id(b)) #same ref in python due to \"=\"\n",
    "\n",
    "c=a+1 #same ref in python due to \"=\"\n",
    "print(id(c)) #in this case new id\n",
    "\n",
    "d=10 #again same as a\n",
    "print(id(d)) # same ref as \"a\" to optimize memory\n",
    "\n",
    "d-=2\n",
    "print(a, \" \", d)\n",
    "print(id(a), \" \", id(d)) # but when we change value id also change\n",
    "\n",
    "\"\"\"\n",
    "memory space also controlled by python: Heap & Stack\n",
    "Objects are created in heap memory but reference are in stack memory\n",
    "each function use different set of stack \n",
    "\n",
    "\"\"\"\n"
   ]
  },
  {
   "cell_type": "code",
   "execution_count": 17,
   "id": "216b0a11",
   "metadata": {},
   "outputs": [
    {
     "name": "stdout",
     "output_type": "stream",
     "text": [
      "2.5   10\n",
      "2   25\n"
     ]
    }
   ],
   "source": [
    "a=5\n",
    "b=2\n",
    "\n",
    "print(a/b,\" \", a*b) # div & mul\n",
    "print(a//b, \" \", a**b) # floor dev and power"
   ]
  },
  {
   "cell_type": "code",
   "execution_count": 18,
   "id": "176a7865",
   "metadata": {},
   "outputs": [
    {
     "name": "stdout",
     "output_type": "stream",
     "text": [
      "abababab\n"
     ]
    },
    {
     "ename": "TypeError",
     "evalue": "can only concatenate str (not \"int\") to str",
     "output_type": "error",
     "traceback": [
      "\u001b[1;31m---------------------------------------------------------------------------\u001b[0m",
      "\u001b[1;31mTypeError\u001b[0m                                 Traceback (most recent call last)",
      "Cell \u001b[1;32mIn[18], line 3\u001b[0m\n\u001b[0;32m      1\u001b[0m a\u001b[38;5;241m=\u001b[39m\u001b[38;5;124m\"\u001b[39m\u001b[38;5;124mab\u001b[39m\u001b[38;5;124m\"\u001b[39m\n\u001b[0;32m      2\u001b[0m \u001b[38;5;28mprint\u001b[39m(a\u001b[38;5;241m*\u001b[39m\u001b[38;5;241m4\u001b[39m)\n\u001b[1;32m----> 3\u001b[0m \u001b[38;5;28mprint\u001b[39m(\u001b[43ma\u001b[49m\u001b[38;5;241;43m+\u001b[39;49m\u001b[38;5;241;43m2\u001b[39;49m)\n",
      "\u001b[1;31mTypeError\u001b[0m: can only concatenate str (not \"int\") to str"
     ]
    }
   ],
   "source": [
    "a=\"ab\"\n",
    "n=4\n",
    "print(a*n) # n times a\n",
    "print(a+2) # + not allowed"
   ]
  },
  {
   "cell_type": "code",
   "execution_count": 5,
   "id": "c87f2b02",
   "metadata": {},
   "outputs": [
    {
     "name": "stdout",
     "output_type": "stream",
     "text": [
      "Sum: 30\n"
     ]
    }
   ],
   "source": [
    "a, b=10, 20\n",
    "c=a+b\n",
    "print(\"Sum: \"+ str(c)) # type casting required in this cases"
   ]
  },
  {
   "cell_type": "code",
   "execution_count": 18,
   "id": "01480d8f",
   "metadata": {},
   "outputs": [
    {
     "name": "stdout",
     "output_type": "stream",
     "text": [
      "a is 90 and b is 100\n",
      "a is 90 and b is 100\n"
     ]
    }
   ],
   "source": [
    "a=90\n",
    "a # print without print\n",
    "\n",
    "b=100\n",
    "b\n",
    "\n",
    "#format print\n",
    "\n",
    "print(f\"a is {a} and b is {b}\") # Note: include \"f\"\n",
    "print(\"a is {} and b is {}\".format(a, b)) "
   ]
  },
  {
   "cell_type": "code",
   "execution_count": 31,
   "id": "c4651dd2",
   "metadata": {},
   "outputs": [
    {
     "name": "stdout",
     "output_type": "stream",
     "text": [
      "1 0b1\n",
      "-2 -0b10\n",
      "1\n",
      "40\n",
      "10\n"
     ]
    }
   ],
   "source": [
    "# Inverse Bit\n",
    "\n",
    "a=1\n",
    "print(a, bin(a))\n",
    "\n",
    "b=~a\n",
    "print(b, bin(b))\n",
    "\n",
    "b=0\n",
    "c=a^b #XOR operator\n",
    "print(c)\n",
    "\n",
    "# other bit operator remain same\n",
    "\n",
    "b=20\n",
    "print(b<<1) #left shift\n",
    "print(b>>1) #right shift"
   ]
  },
  {
   "cell_type": "code",
   "execution_count": 32,
   "id": "879a70fe",
   "metadata": {},
   "outputs": [
    {
     "name": "stdout",
     "output_type": "stream",
     "text": [
      "Yes\n",
      "Yes\n"
     ]
    },
    {
     "name": "stderr",
     "output_type": "stream",
     "text": [
      "<>:5: SyntaxWarning: \"is\" with a literal. Did you mean \"==\"?\n",
      "<>:10: SyntaxWarning: \"is not\" with a literal. Did you mean \"!=\"?\n",
      "<>:5: SyntaxWarning: \"is\" with a literal. Did you mean \"==\"?\n",
      "<>:10: SyntaxWarning: \"is not\" with a literal. Did you mean \"!=\"?\n",
      "C:\\Users\\HP\\AppData\\Local\\Temp\\ipykernel_13784\\3340698930.py:5: SyntaxWarning: \"is\" with a literal. Did you mean \"==\"?\n",
      "  if a is 10:\n",
      "C:\\Users\\HP\\AppData\\Local\\Temp\\ipykernel_13784\\3340698930.py:10: SyntaxWarning: \"is not\" with a literal. Did you mean \"!=\"?\n",
      "  if a is not 10:\n"
     ]
    }
   ],
   "source": [
    "# is operator\n",
    "\n",
    "a=10\n",
    "\n",
    "if a is 10:\n",
    "    print(\"Yes\")\n",
    "else:\n",
    "    print(\"No\")\n",
    "    \n",
    "if a is not 10:\n",
    "    print(\"No\")\n",
    "else: \n",
    "    print(\"Yes\")"
   ]
  },
  {
   "cell_type": "code",
   "execution_count": 5,
   "id": "6bfc1baa",
   "metadata": {},
   "outputs": [
    {
     "name": "stdout",
     "output_type": "stream",
     "text": [
      "helper i:  10\n",
      "outside i:  10\n",
      "helper2 i: 20\n",
      "outside i:  10\n",
      "helper3 i: 30\n",
      "outside i: 30\n"
     ]
    }
   ],
   "source": [
    "# data declaration\n",
    "\n",
    "i=10 # global declaration\n",
    "\n",
    "def helper():\n",
    "    \n",
    "    print(\"helper i: \", i)\n",
    "\n",
    "helper()\n",
    "print(\"outside i: \", i)\n",
    "\n",
    "def helper2():\n",
    "    i=20             # local declaration\n",
    "    print(\"helper2 i:\", i)\n",
    "\n",
    "helper2()\n",
    "print(\"outside i: \", i)\n",
    "\n",
    "def helper3():\n",
    "    global i\n",
    "    i=30      # Global declaration, can't write global i=30\n",
    "    print(\"helper3 i:\", i)\n",
    "\n",
    "helper3()\n",
    "print(\"outside i:\", i)"
   ]
  },
  {
   "cell_type": "markdown",
   "id": "f1eea154",
   "metadata": {},
   "source": []
  },
  {
   "cell_type": "code",
   "execution_count": 6,
   "id": "ace38fb9",
   "metadata": {},
   "outputs": [],
   "source": [
    "# pass statement\n",
    "\n",
    "n=5\n",
    "for i in range(n):\n",
    "    pass # no error occur"
   ]
  },
  {
   "cell_type": "code",
   "execution_count": 3,
   "id": "8064a040",
   "metadata": {},
   "outputs": [
    {
     "name": "stdout",
     "output_type": "stream",
     "text": [
      "2.0\n"
     ]
    },
    {
     "data": {
      "text/plain": [
       "float"
      ]
     },
     "execution_count": 3,
     "metadata": {},
     "output_type": "execute_result"
    }
   ],
   "source": [
    "# Basic use of e\n",
    "\n",
    "a=4e5\n",
    "b=2e5\n",
    "\n",
    "c=a/b\n",
    "print(c)\n",
    "type(c)"
   ]
  },
  {
   "cell_type": "code",
   "execution_count": 5,
   "id": "ab6f8984",
   "metadata": {},
   "outputs": [
    {
     "name": "stdout",
     "output_type": "stream",
     "text": [
      "Love to see you cry "
     ]
    }
   ],
   "source": [
    "# single line statement by ;\n",
    "\n",
    "if(1<2):\n",
    "    print(\"Love\", end=\" \"); print(\"to\", end=\" \"); print(\"see\", end=\" \"); print(\"you\", end=\" \"); print(\"cry\", end=\" \")"
   ]
  },
  {
   "cell_type": "code",
   "execution_count": 11,
   "id": "90ec4d9f",
   "metadata": {},
   "outputs": [
    {
     "name": "stdout",
     "output_type": "stream",
     "text": [
      "5\n",
      "4\n",
      "5\n"
     ]
    }
   ],
   "source": [
    "# special if\n",
    "\n",
    "a, b = input(), input()\n",
    "max_= a if(a>b) else b\n",
    "print(max_)"
   ]
  },
  {
   "cell_type": "code",
   "execution_count": 2,
   "id": "f8bb65c8",
   "metadata": {},
   "outputs": [
    {
     "name": "stdout",
     "output_type": "stream",
     "text": [
      "5\n",
      "i=1 and j=0\n",
      "i=2 and j=0\n",
      "i=2 and j=1\n",
      "i=3 and j=0\n",
      "i=3 and j=1\n",
      "i=3 and j=2\n",
      "i=4 and j=0\n",
      "i=4 and j=1\n",
      "i=4 and j=2\n"
     ]
    }
   ],
   "source": [
    "# break in nested loop\n",
    "\n",
    "n=int(input())\n",
    "\n",
    "for i in range(n): \n",
    "    for j in range(i):\n",
    "        print(\"i={} and j={}\".format(i, j))\n",
    "        if(j==2): break # only break from nested loop not from whole loop\n"
   ]
  },
  {
   "cell_type": "code",
   "execution_count": null,
   "id": "5fb38473",
   "metadata": {},
   "outputs": [],
   "source": []
  }
 ],
 "metadata": {
  "kernelspec": {
   "display_name": "Python 3 (ipykernel)",
   "language": "python",
   "name": "python3"
  },
  "language_info": {
   "codemirror_mode": {
    "name": "ipython",
    "version": 3
   },
   "file_extension": ".py",
   "mimetype": "text/x-python",
   "name": "python",
   "nbconvert_exporter": "python",
   "pygments_lexer": "ipython3",
   "version": "3.10.9"
  }
 },
 "nbformat": 4,
 "nbformat_minor": 5
}
