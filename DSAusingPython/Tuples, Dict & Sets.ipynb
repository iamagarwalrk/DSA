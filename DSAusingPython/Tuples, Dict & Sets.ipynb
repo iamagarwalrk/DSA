{
 "cells": [
  {
   "cell_type": "code",
   "execution_count": 22,
   "id": "32c107d4",
   "metadata": {},
   "outputs": [
    {
     "name": "stdout",
     "output_type": "stream",
     "text": [
      "(1, 2, 3)\n",
      "1\n"
     ]
    },
    {
     "ename": "TypeError",
     "evalue": "'int' object does not support item assignment",
     "output_type": "error",
     "traceback": [
      "\u001b[1;31m---------------------------------------------------------------------------\u001b[0m",
      "\u001b[1;31mTypeError\u001b[0m                                 Traceback (most recent call last)",
      "Cell \u001b[1;32mIn[22], line 9\u001b[0m\n\u001b[0;32m      6\u001b[0m tp\u001b[38;5;241m=\u001b[39m(\u001b[38;5;241m1\u001b[39m) \u001b[38;5;66;03m# complete change allow \u001b[39;00m\n\u001b[0;32m      7\u001b[0m \u001b[38;5;28mprint\u001b[39m(tp)\n\u001b[1;32m----> 9\u001b[0m tp[\u001b[38;5;241m0\u001b[39m]\u001b[38;5;241m=\u001b[39m\u001b[38;5;241m2\u001b[39m\n",
      "\u001b[1;31mTypeError\u001b[0m: 'int' object does not support item assignment"
     ]
    }
   ],
   "source": [
    "# Tuple\n",
    "\n",
    "tp=(1, 2, 3)\n",
    "print(tp)\n",
    "\n",
    "tp=(1) # complete change allow \n",
    "print(tp)\n",
    "\n",
    "tp[0]=2 # immutable - partial change not allow\n",
    "\n"
   ]
  },
  {
   "cell_type": "code",
   "execution_count": 23,
   "id": "4fd7505d",
   "metadata": {},
   "outputs": [
    {
     "data": {
      "text/plain": [
       "tuple"
      ]
     },
     "execution_count": 23,
     "metadata": {},
     "output_type": "execute_result"
    }
   ],
   "source": [
    "# empty tuple\n",
    "\n",
    "tp=()\n",
    "type(tp)"
   ]
  },
  {
   "cell_type": "code",
   "execution_count": 31,
   "id": "746333a1",
   "metadata": {},
   "outputs": [
    {
     "name": "stdout",
     "output_type": "stream",
     "text": [
      "{1: 10, 2: 'happy', 'happy': 3}\n",
      "3\n",
      "{1: 10, 2: 'happy', 'happy': 3}\n"
     ]
    }
   ],
   "source": [
    "# DICT\n",
    "\n",
    "#mutable\n",
    "\n",
    "dic={1:10, 2:\"happy\", \"happy\": 3} # key:value\n",
    "print(dic)\n",
    "print(dic[\"happy\"])\n",
    "\n",
    "dic2={} #{} dic type only\n",
    "type(dic2)\n",
    "\n",
    "dic3=dict([(1, 10), (2, \"happy\"), (\"happy\", 3)]) # another way of dec dic\n",
    "print(dic3)"
   ]
  },
  {
   "cell_type": "code",
   "execution_count": 38,
   "id": "ec32a671",
   "metadata": {},
   "outputs": [
    {
     "name": "stdout",
     "output_type": "stream",
     "text": [
      "{1, 2, 3} <class 'set'>\n",
      "{1, 2, 3} <class 'set'>\n",
      "<class 'set'>\n"
     ]
    }
   ],
   "source": [
    "# Set\n",
    "\n",
    "# immutable - no duplicate data\n",
    "\n",
    "sete=set([1, 2, 3])\n",
    "print(sete, type(sete))\n",
    "\n",
    "sete={1, 2, 3} #another way of dec set\n",
    "print(sete, type(sete))\n",
    "\n",
    "sete=set() # for empty\n",
    "print(type(sete))"
   ]
  },
  {
   "cell_type": "code",
   "execution_count": 3,
   "id": "20809cdb",
   "metadata": {},
   "outputs": [
    {
     "name": "stdout",
     "output_type": "stream",
     "text": [
      "Enter any list: \n",
      "1 2 3 1 2 3 12 3 3 2 1 2 32 1 1 1 1 \n",
      "Unique elements are:  {32, 1, 2, 3, 12}\n",
      "[32, 1, 2, 3, 12]\n"
     ]
    }
   ],
   "source": [
    "# remove multiple elements from list\n",
    "\n",
    "arr=list(map(int, input(\"Enter any list: \\n\").split()))\n",
    "myset=set(arr)\n",
    "print(\"Unique elements are: \", myset)\n",
    "\n",
    "print(list(myset)) # conversion again into list"
   ]
  },
  {
   "cell_type": "code",
   "execution_count": 13,
   "id": "a58d83b8",
   "metadata": {},
   "outputs": [
    {
     "name": "stdout",
     "output_type": "stream",
     "text": [
      "{1, 2, 3, 4, 5}\n",
      "{1, 2, 3, 4, 5, 6}\n",
      "{1, 2, 3, 4, 5, 6, 7}\n",
      "{1, 2, 3, 4, 5, 6}\n",
      "{1, 2, 3, 4, 5}\n",
      "{2, 3, 4, 5}\n"
     ]
    },
    {
     "ename": "KeyError",
     "evalue": "100",
     "output_type": "error",
     "traceback": [
      "\u001b[1;31m---------------------------------------------------------------------------\u001b[0m",
      "\u001b[1;31mKeyError\u001b[0m                                  Traceback (most recent call last)",
      "Cell \u001b[1;32mIn[13], line 19\u001b[0m\n\u001b[0;32m     16\u001b[0m \u001b[38;5;28mprint\u001b[39m(myset)\n\u001b[0;32m     18\u001b[0m myset\u001b[38;5;241m.\u001b[39mdiscard(\u001b[38;5;241m100\u001b[39m) \u001b[38;5;66;03m# no error for non-existantial item\u001b[39;00m\n\u001b[1;32m---> 19\u001b[0m \u001b[43mmyset\u001b[49m\u001b[38;5;241;43m.\u001b[39;49m\u001b[43mremove\u001b[49m\u001b[43m(\u001b[49m\u001b[38;5;241;43m100\u001b[39;49m\u001b[43m)\u001b[49m\n",
      "\u001b[1;31mKeyError\u001b[0m: 100"
     ]
    }
   ],
   "source": [
    "# Set - common operation\n",
    "\n",
    "myset={1, 2, 3, 4, 5}\n",
    "print(myset)\n",
    "\n",
    "myset.update({4, 5, 6}) #add multiple element in set\n",
    "print(myset)\n",
    "\n",
    "myset.add(7) #add single element in set\n",
    "print(myset)\n",
    "\n",
    "myset.remove(7)\n",
    "print(myset)\n",
    "myset.discard(6)\n",
    "print(myset)\n",
    "\n",
    "myset.pop()\n",
    "print(myset)\n",
    "\n",
    "myset.discard(100) # no error for non-existantial item\n",
    "myset.remove(100) # error for non-existantial item"
   ]
  },
  {
   "cell_type": "code",
   "execution_count": 17,
   "id": "b6ae1d1e",
   "metadata": {},
   "outputs": [
    {
     "name": "stdout",
     "output_type": "stream",
     "text": [
      "{1, 2, 3, 4, 5}\n",
      "{1, 2, 3, 4, 5}\n",
      "{1, 3, 5}\n",
      "{1, 3, 5}\n",
      "{2, 4}\n"
     ]
    }
   ],
   "source": [
    "# Set - imp function\n",
    "\n",
    "myset1={1, 2, 3, 4, 5}\n",
    "myset2={1, 3, 5}\n",
    "\n",
    "myset3=myset1 | myset2 #union method 1\n",
    "print(myset3)\n",
    "\n",
    "myset3=myset1.union(myset2) #union method 1\n",
    "print(myset3)\n",
    "\n",
    "myset3= myset1 & myset2 # intersection method 1\n",
    "print(myset3)\n",
    "\n",
    "myset3= myset1.intersection(myset2) # intersection method 2\n",
    "print(myset3)\n",
    "\n",
    "myset3= myset1 - myset2 # not in myset2\n",
    "print(myset3)"
   ]
  },
  {
   "cell_type": "code",
   "execution_count": 29,
   "id": "98c7e348",
   "metadata": {},
   "outputs": [
    {
     "name": "stdout",
     "output_type": "stream",
     "text": [
      "Mtech\n",
      "Mtech\n",
      "dict_keys(['name', 'Age', 'class'])\n",
      "dict_values(['Rishabh', 25, 'Mtech'])\n",
      "{'name': 'Rishabh'}\n"
     ]
    }
   ],
   "source": [
    "# Dict - Operation\n",
    "\n",
    "dic={\"name\": \"Rishabh\", \"Age\":25, \"class\": \"Mtech\"}\n",
    "\n",
    "a=dic[\"class\"] # access element\n",
    "print(a)\n",
    "\n",
    "a=dic.get(\"class\") # access element\n",
    "print(a)\n",
    "\n",
    "print(dic.keys()) #give keys\n",
    "print(dic.values()) #give values\n",
    "dic.pop(\"class\") #pop\n",
    "dic.popitem() #pop last item\n",
    "print(dic)"
   ]
  },
  {
   "cell_type": "code",
   "execution_count": 3,
   "id": "0fac0f27",
   "metadata": {},
   "outputs": [
    {
     "name": "stdout",
     "output_type": "stream",
     "text": [
      "False\n",
      "True\n"
     ]
    }
   ],
   "source": [
    "# Bool Datatype\n",
    "\n",
    "a=[True, True, False, True]\n",
    "print(all(a)) # true only if all true\n",
    "print(any(a)) # true if any one true\n",
    "\n",
    "#check zero or not\n",
    "\n",
    "a=[1, 2, 0]"
   ]
  },
  {
   "cell_type": "code",
   "execution_count": null,
   "id": "023dda6e",
   "metadata": {},
   "outputs": [],
   "source": []
  }
 ],
 "metadata": {
  "kernelspec": {
   "display_name": "Python 3 (ipykernel)",
   "language": "python",
   "name": "python3"
  },
  "language_info": {
   "codemirror_mode": {
    "name": "ipython",
    "version": 3
   },
   "file_extension": ".py",
   "mimetype": "text/x-python",
   "name": "python",
   "nbconvert_exporter": "python",
   "pygments_lexer": "ipython3",
   "version": "3.10.9"
  }
 },
 "nbformat": 4,
 "nbformat_minor": 5
}
