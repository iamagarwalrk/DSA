{
 "cells": [
  {
   "cell_type": "code",
   "execution_count": 1,
   "id": "6bfdada7",
   "metadata": {
    "scrolled": true
   },
   "outputs": [
    {
     "name": "stdout",
     "output_type": "stream",
     "text": [
      "3\n",
      "[2, 3]\n"
     ]
    },
    {
     "ename": "TypeError",
     "evalue": "list expected at most 1 argument, got 3",
     "output_type": "error",
     "traceback": [
      "\u001b[1;31m---------------------------------------------------------------------------\u001b[0m",
      "\u001b[1;31mTypeError\u001b[0m                                 Traceback (most recent call last)",
      "Cell \u001b[1;32mIn[1], line 7\u001b[0m\n\u001b[0;32m      4\u001b[0m \u001b[38;5;28mprint\u001b[39m(arr1[\u001b[38;5;241m-\u001b[39m\u001b[38;5;241m1\u001b[39m]) \u001b[38;5;66;03m#last element start from 1\u001b[39;00m\n\u001b[0;32m      5\u001b[0m \u001b[38;5;28mprint\u001b[39m(arr1[\u001b[38;5;241m1\u001b[39m:])\n\u001b[1;32m----> 7\u001b[0m arr2\u001b[38;5;241m=\u001b[39m\u001b[38;5;28;43mlist\u001b[39;49m\u001b[43m(\u001b[49m\u001b[38;5;241;43m1\u001b[39;49m\u001b[43m,\u001b[49m\u001b[43m \u001b[49m\u001b[38;5;241;43m2\u001b[39;49m\u001b[43m,\u001b[49m\u001b[43m \u001b[49m\u001b[38;5;241;43m3\u001b[39;49m\u001b[43m)\u001b[49m\n",
      "\u001b[1;31mTypeError\u001b[0m: list expected at most 1 argument, got 3"
     ]
    }
   ],
   "source": [
    "# List data type \n",
    "\n",
    "arr1=[1, 2, 3]\n",
    "print(arr1[-1]) #last element start from 1\n",
    "print(arr1[1:0])\n",
    "\n",
    "arr2=list(1, 2, 3) #not allowed"
   ]
  },
  {
   "cell_type": "code",
   "execution_count": 1,
   "id": "ca16d30d",
   "metadata": {},
   "outputs": [
    {
     "name": "stdout",
     "output_type": "stream",
     "text": [
      "Enter any numbers:\n",
      "1 2 3 4 5\n",
      "15\n"
     ]
    }
   ],
   "source": [
    "arr=list(map(int, input(\"Enter any numbers:\\n\").split()))\n",
    "print(sum(arr)) # sum fn in list"
   ]
  },
  {
   "cell_type": "code",
   "execution_count": 3,
   "id": "0b6126fa",
   "metadata": {},
   "outputs": [
    {
     "name": "stdout",
     "output_type": "stream",
     "text": [
      "[4, 5, 6, [1, 2, 3]]\n",
      "[4, 5, 6, 1, 2, 3]\n",
      "6   1  \n",
      "[1, 2, 3, 4, 5, 6]\n",
      "[4, 5, 6, 1, 2, 3]\n",
      "[4, 0, 5, 6, 1, 2, 3]\n",
      "[3, 2, 1, 6, 5, 0, 4]\n",
      "[]\n"
     ]
    }
   ],
   "source": [
    "arr=[4, 5, 6]\n",
    "\n",
    "arr.append([1, 2, 3]) # add as single element\n",
    "print(arr)\n",
    "\n",
    "arr.pop() # remove last element\n",
    "arr.extend([1, 2, 3]) # add multiple elements\n",
    "print(arr)\n",
    "\n",
    "print(max(arr), \" \", min(arr), \" \")\n",
    "print(sorted(arr)) # not change original list/array\n",
    "print(arr)\n",
    "\n",
    "arr.insert(1, 0) # add a element in between\n",
    "print(arr)\n",
    "\n",
    "arr.reverse() # reverse array\n",
    "print(arr)\n",
    "\n",
    "arr.clear()\n",
    "print(arr)"
   ]
  },
  {
   "cell_type": "code",
   "execution_count": 13,
   "id": "c15af5b0",
   "metadata": {},
   "outputs": [
    {
     "name": "stdout",
     "output_type": "stream",
     "text": [
      "3\n",
      "4\n",
      "True\n",
      "False\n"
     ]
    }
   ],
   "source": [
    "arr=[1, 2, 3, 4, 5, 1, 1, 2]\n",
    "\n",
    "print(arr.count(1)) # count the element\n",
    "print(arr.index(5)) # index of element\n",
    "\n",
    "print(1 in arr) # check element\n",
    "print(1 not in arr)"
   ]
  },
  {
   "cell_type": "code",
   "execution_count": 5,
   "id": "4ded78ee",
   "metadata": {},
   "outputs": [
    {
     "name": "stdout",
     "output_type": "stream",
     "text": [
      "Enter any array:\n",
      "1 2 3 4 5 6\n",
      "[6, 5, 4, 3, 2]\n"
     ]
    }
   ],
   "source": [
    "# reverse a list\n",
    "\n",
    "def helper(arr):\n",
    "    \n",
    "    ans=arr[-1:0:-1] #first letter excluded\n",
    "    return ans\n",
    "    \n",
    "arr=list(map(int, input(\"Enter any array:\\n\").split()))\n",
    "arr=helper(arr)\n",
    "print(arr)"
   ]
  },
  {
   "cell_type": "code",
   "execution_count": 5,
   "id": "da0c20bc",
   "metadata": {},
   "outputs": [
    {
     "name": "stdout",
     "output_type": "stream",
     "text": [
      "1 2 3 4 5\n",
      "3\n"
     ]
    },
    {
     "ename": "TypeError",
     "evalue": "object of type 'NoneType' has no len()",
     "output_type": "error",
     "traceback": [
      "\u001b[1;31m---------------------------------------------------------------------------\u001b[0m",
      "\u001b[1;31mTypeError\u001b[0m                                 Traceback (most recent call last)",
      "Cell \u001b[1;32mIn[5], line 20\u001b[0m\n\u001b[0;32m     18\u001b[0m n\u001b[38;5;241m=\u001b[39m\u001b[38;5;28mint\u001b[39m(\u001b[38;5;28minput\u001b[39m())\n\u001b[0;32m     19\u001b[0m arr\u001b[38;5;241m=\u001b[39marr\u001b[38;5;241m.\u001b[39msort()\n\u001b[1;32m---> 20\u001b[0m \u001b[38;5;28mprint\u001b[39m(helper(arr, n, \u001b[38;5;241m0\u001b[39m, \u001b[38;5;28;43mlen\u001b[39;49m\u001b[43m(\u001b[49m\u001b[43marr\u001b[49m\u001b[43m)\u001b[49m\u001b[38;5;241m-\u001b[39m\u001b[38;5;241m1\u001b[39m)\u001b[38;5;241m+\u001b[39m\u001b[38;5;241m1\u001b[39m)\n",
      "\u001b[1;31mTypeError\u001b[0m: object of type 'NoneType' has no len()"
     ]
    }
   ],
   "source": [
    "# binary search\n",
    "\n",
    "def helper(arr, n, sidx, fidx):\n",
    "    \n",
    "    # Base Case\n",
    "    if(n<arr[sidx] or n>arr[fidx]): return -1\n",
    "    \n",
    "    #Positive\n",
    "    if(n==arr[sidx]): return sidx\n",
    "    elif(n==arr[fidx]): return fidx\n",
    "    else:\n",
    "        mid=sidx+((fidx-sidx)//2)\n",
    "        if(n<arr[mid]): return helper(arr, n, sidx, mid)\n",
    "        else: return helper(arr, n, mid, fidx)\n",
    "        \n",
    "\n",
    "arr=[int(i) for i in input().split()]\n",
    "n=int(input())\n",
    "arr=arr.sort()\n",
    "print(helper(arr, n, 0, len(arr)-1)+1) # why error"
   ]
  },
  {
   "cell_type": "code",
   "execution_count": 5,
   "id": "5ff4f81a",
   "metadata": {},
   "outputs": [
    {
     "name": "stdout",
     "output_type": "stream",
     "text": [
      "4 5 6\n",
      "[4, 5, 6, 4, 5, 6, 4, 5, 6]\n",
      "[4, 5, 6, 1, 2, 3]\n"
     ]
    }
   ],
   "source": [
    "arr=[int(i) for i in input().split()]\n",
    "print(arr*3) \n",
    "\n",
    "l=[1, 2, 3]\n",
    "print(arr+l)"
   ]
  },
  {
   "cell_type": "code",
   "execution_count": 23,
   "id": "056999fe",
   "metadata": {},
   "outputs": [
    {
     "name": "stdout",
     "output_type": "stream",
     "text": [
      "[[9, 8], [7, 6, 5], [4, 3, 2, 1]]\n",
      "[[7, 6, 5], [4, 3, 2, 1]]\n",
      "None\n"
     ]
    }
   ],
   "source": [
    "# 2d array\n",
    "\n",
    "arr=[\n",
    "    [9, 8],\n",
    "    [7, 6, 5],\n",
    "    [4, 3, 2, 1]\n",
    "]\n",
    "\n",
    "print(arr[0:])\n",
    "print(arr[0:][1:]) # [1] of arr[0:] not address column\n",
    "\n",
    "print(arr.sort()) # dont why not working"
   ]
  },
  {
   "cell_type": "code",
   "execution_count": 3,
   "id": "76c843c6",
   "metadata": {},
   "outputs": [
    {
     "name": "stdout",
     "output_type": "stream",
     "text": [
      "1 1 2 3 3 4 4 5 5 \n",
      "Unique element is 2\n"
     ]
    }
   ],
   "source": [
    "# Find the Unique element - using xor operator\n",
    "\n",
    "def helper(arr):\n",
    "    temp=0\n",
    "    for val in arr:\n",
    "        temp=val^temp\n",
    "    \n",
    "    return temp\n",
    "\n",
    "arr=list(map(int, input().split()))\n",
    "ans=helper(arr)\n",
    "print(f\"Unique element is {ans}\")\n"
   ]
  },
  {
   "cell_type": "code",
   "execution_count": null,
   "id": "19da1735",
   "metadata": {},
   "outputs": [],
   "source": []
  },
  {
   "cell_type": "code",
   "execution_count": 8,
   "id": "ea647c50",
   "metadata": {},
   "outputs": [
    {
     "name": "stdout",
     "output_type": "stream",
     "text": [
      "1 2 2 3 4 5\n",
      "2\n"
     ]
    }
   ],
   "source": [
    "# Duplicate in Array\n",
    "\n",
    "def helper(arr):\n",
    "    dic=dict()\n",
    "    for val in arr:\n",
    "        if(val not in dic):\n",
    "            dic[val]=1\n",
    "        else:\n",
    "            return val\n",
    "            \n",
    "    return -1\n",
    "\n",
    "arr=list(map(int, input().split()))\n",
    "ans=helper(arr)\n",
    "print(ans)"
   ]
  },
  {
   "cell_type": "code",
   "execution_count": 11,
   "id": "5636dd36",
   "metadata": {},
   "outputs": [
    {
     "name": "stdout",
     "output_type": "stream",
     "text": [
      "2 6 1 2\n",
      "1 2 3 4 2\n",
      "[1, 2, 2]\n"
     ]
    }
   ],
   "source": [
    "# Array Intersection\n",
    "\n",
    "def helper(arr1, arr2):\n",
    "    \n",
    "    dic=dict()\n",
    "    arr3=list()\n",
    "    for val in arr1:\n",
    "        if(val not in dic):\n",
    "            dic[val]=1\n",
    "        else: dic[val]+=1\n",
    "    \n",
    "    for val in arr2:\n",
    "        if(val not in dic):\n",
    "            continue\n",
    "        else:\n",
    "            dic[val]-=1\n",
    "            arr3.append(val)\n",
    "    \n",
    "    return arr3\n",
    "\n",
    "arr1=list(map(int, input().split()))\n",
    "arr2=list(map(int, input().split()))\n",
    "\n",
    "arr3=helper(arr1, arr2)\n",
    "print(arr3)"
   ]
  },
  {
   "cell_type": "code",
   "execution_count": 19,
   "id": "653dabc2",
   "metadata": {},
   "outputs": [
    {
     "name": "stdout",
     "output_type": "stream",
     "text": [
      "2 8 10 5 -2 5\n",
      "10\n",
      "[-2, 2, 5, 5, 8, 10]\n",
      "2\n"
     ]
    }
   ],
   "source": [
    "# Pair sum in array - Error in Case: (1 3 6 2 5 4 3 2 4, 7) ans is 7\n",
    "\n",
    "def helper(arr, num):\n",
    "    arr.sort()\n",
    "    print(arr)\n",
    "    ans=0\n",
    "    i, j=0, len(arr)-1\n",
    "    while i<j:\n",
    "        if(arr[i]+arr[j]==num):\n",
    "            ans+=1\n",
    "            i+=1\n",
    "            j-=1\n",
    "        elif(arr[i]+arr[j]>num):\n",
    "            j-=1\n",
    "        elif(arr[i]+arr[j]<num):\n",
    "            i+=1\n",
    "    \n",
    "    return ans\n",
    "\n",
    "arr=list(map(int, input().split()))\n",
    "num=int(input())\n",
    "ans=helper(arr, num)\n",
    "print(ans)"
   ]
  },
  {
   "cell_type": "code",
   "execution_count": null,
   "id": "3dbcc136",
   "metadata": {},
   "outputs": [
    {
     "name": "stdout",
     "output_type": "stream",
     "text": [
      "1 2 3 4 5 6 7\n",
      "12\n"
     ]
    }
   ],
   "source": [
    "# Triplet sum - need to complete\n",
    "\n",
    "from itertools import combinations as cmb\n",
    "\n",
    "def duplicate(arr, num, idx, i, j):\n",
    "    \n",
    "    a, b=1, 1\n",
    "    if(arr[i]==arr[j] and arr[i]==arr[idx]):\n",
    "        return cmb(j-i, 2)\n",
    "    elif(arr[i]==arr[j] and arr[i]!=arr[idx]):\n",
    "        return cmb(j-i+1, 2)\n",
    "    else:\n",
    "        while(i<j):\n",
    "            if(arr[i]==arr[i+1]):\n",
    "                a+=1\n",
    "                i+=1\n",
    "            if(arr[j]==arr[j-1]):\n",
    "                b+=1\n",
    "                j-=1\n",
    "        return a*b    \n",
    "    \n",
    "    \n",
    "\n",
    "def helper1(arr, num, idx):\n",
    "    \n",
    "    ans=0\n",
    "    i, j=0, len(arr)-1\n",
    "    while(i<j):\n",
    "        if(i==idx):\n",
    "            i+=1\n",
    "        elif(j==idx):\n",
    "            j-=1\n",
    "        elif(arr[i]+arr[j]<num):\n",
    "            i+=1\n",
    "        elif(arr[i]+arr[j]>num):\n",
    "            j-=1\n",
    "        else:\n",
    "            ans+=duplicate(arr, num, idx, i, j)\n",
    "        \n",
    "        return ans\n",
    "\n",
    "def helper(arr, num):\n",
    "    arr.sort()\n",
    "    ans=0\n",
    "    for i in range(len(arr)):\n",
    "        ans+=helper1(arr, num-arr[i], i)\n",
    "    \n",
    "    return ans\n",
    "    \n",
    "\n",
    "arr=list(map(int, input().split()))\n",
    "num=int(input())\n",
    "ans=helper(arr, num)\n",
    "print(ans)"
   ]
  },
  {
   "cell_type": "code",
   "execution_count": 4,
   "id": "5a7d7705",
   "metadata": {},
   "outputs": [
    {
     "name": "stdout",
     "output_type": "stream",
     "text": [
      "10 20 30 1\n",
      "3\n"
     ]
    }
   ],
   "source": [
    "# Check Array Rotation\n",
    "\n",
    "def helper(arr):\n",
    "    \n",
    "    for i in range(len(arr)-1):\n",
    "        if(arr[i]>arr[i+1]):\n",
    "            return i+1\n",
    "    return 0    \n",
    "\n",
    "arr=list(map(int, input().split()))\n",
    "ans=helper(arr)\n",
    "print(ans)"
   ]
  },
  {
   "cell_type": "code",
   "execution_count": null,
   "id": "9e6ce00a",
   "metadata": {},
   "outputs": [],
   "source": []
  }
 ],
 "metadata": {
  "kernelspec": {
   "display_name": "Python 3 (ipykernel)",
   "language": "python",
   "name": "python3"
  },
  "language_info": {
   "codemirror_mode": {
    "name": "ipython",
    "version": 3
   },
   "file_extension": ".py",
   "mimetype": "text/x-python",
   "name": "python",
   "nbconvert_exporter": "python",
   "pygments_lexer": "ipython3",
   "version": "3.10.9"
  }
 },
 "nbformat": 4,
 "nbformat_minor": 5
}
