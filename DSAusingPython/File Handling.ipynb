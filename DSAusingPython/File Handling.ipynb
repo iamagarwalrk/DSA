{
 "cells": [
  {
   "cell_type": "code",
   "execution_count": 17,
   "id": "df707da0",
   "metadata": {},
   "outputs": [
    {
     "name": "stdout",
     "output_type": "stream",
     "text": [
      "{\n",
      " \"cells\": [\n",
      "  {\n",
      "  \n",
      " \"cell_type\": \"code\",\n",
      "\n",
      "   \"execution_count\": null,\n",
      "\n",
      "   \n"
     ]
    }
   ],
   "source": [
    "import os\n",
    "\n",
    "file=open(\"g_value.ipynb\", \"r\")  #open file in read only mode\n",
    "print(file.read(20))  # show file upto 20 characters only\n",
    "print(file.readline()) # print line by line - first line\n",
    "print(file.readline()) # print line by line - second line\n",
    "print(file.readline(3)) # show 3 character \n",
    "#print(file.readlines()) # show whole file with no \"\\n\" as array\n",
    "\n",
    "#for line in file: #show whole file \n",
    "#    print(line)\n",
    "\n",
    "\n",
    "file.close() # file close"
   ]
  },
  {
   "cell_type": "code",
   "execution_count": null,
   "id": "a3a17d83",
   "metadata": {},
   "outputs": [],
   "source": []
  }
 ],
 "metadata": {
  "kernelspec": {
   "display_name": "Python 3 (ipykernel)",
   "language": "python",
   "name": "python3"
  },
  "language_info": {
   "codemirror_mode": {
    "name": "ipython",
    "version": 3
   },
   "file_extension": ".py",
   "mimetype": "text/x-python",
   "name": "python",
   "nbconvert_exporter": "python",
   "pygments_lexer": "ipython3",
   "version": "3.10.9"
  }
 },
 "nbformat": 4,
 "nbformat_minor": 5
}
