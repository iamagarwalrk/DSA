{
 "cells": [
  {
   "cell_type": "code",
   "execution_count": 5,
   "id": "ca801f4c",
   "metadata": {},
   "outputs": [
    {
     "name": "stdout",
     "output_type": "stream",
     "text": [
      "Enter any number3\n",
      "A \n",
      "B B \n",
      "C C C \n"
     ]
    }
   ],
   "source": [
    "# Alphabet Pattern\n",
    "\n",
    "def helper(n):\n",
    "    \n",
    "    for i in range(n):\n",
    "        for j in range(i+1):\n",
    "            print(chr(ord('A')+i), end=\" \") # ord fn for chr to ASCII value and char fn for ASCII to char \n",
    "        print() # no print(\"\\n\") give double space\n",
    "    return\n",
    "\n",
    "n=int(input(\"Enter any number\"))\n",
    "helper(n)"
   ]
  },
  {
   "cell_type": "code",
   "execution_count": 2,
   "id": "dd86a3a8",
   "metadata": {},
   "outputs": [
    {
     "name": "stdout",
     "output_type": "stream",
     "text": [
      "Enter any number5\n",
      "1 2 3 4 5 \n",
      "1 2 3 4 \n",
      "1 2 3 \n",
      "1 2 \n",
      "1 \n"
     ]
    }
   ],
   "source": [
    "# Number Pattern Problem\n",
    "\n",
    "def helper(n):\n",
    "    for i in range(n, 0, -1):\n",
    "        for j in range(1, i+1):\n",
    "            print(j, end=\" \")\n",
    "        print()\n",
    "        \n",
    "n=int(input(\"Enter any number\"))\n",
    "helper(n)"
   ]
  },
  {
   "cell_type": "code",
   "execution_count": 3,
   "id": "138eed55",
   "metadata": {},
   "outputs": [
    {
     "name": "stdout",
     "output_type": "stream",
     "text": [
      "Enter any number6\n",
      "1 \n",
      "2 3 \n",
      "3 4 5 \n",
      "4 5 6 7 \n",
      "5 6 7 8 9 \n",
      "6 7 8 9 10 11 \n"
     ]
    }
   ],
   "source": [
    "# number pattern 2\n",
    "\n",
    "def helper(n):\n",
    "    for i in range(n):\n",
    "        for j in range(i+1):\n",
    "            print(i+j+1, end=\" \")\n",
    "        print()\n",
    "        \n",
    "n=int(input(\"Enter any number\"))\n",
    "helper(n)"
   ]
  },
  {
   "cell_type": "code",
   "execution_count": 9,
   "id": "86910afc",
   "metadata": {
    "scrolled": true
   },
   "outputs": [
    {
     "name": "stdout",
     "output_type": "stream",
     "text": [
      "5\n",
      "    *\n",
      "   ***\n",
      "  *****\n",
      " *******\n",
      "*********\n"
     ]
    }
   ],
   "source": [
    "# center star\n",
    "\n",
    "def helper(n):\n",
    "    \n",
    "    for i in range(1, n+1):\n",
    "        print(\" \" * (n-i) + \"*\" * (2*i-1))\n",
    "    return\n",
    "\n",
    "n=int(input())\n",
    "helper(n) "
   ]
  },
  {
   "cell_type": "code",
   "execution_count": 5,
   "id": "997cc4fa",
   "metadata": {},
   "outputs": [
    {
     "name": "stdout",
     "output_type": "stream",
     "text": [
      "10\n",
      "    *\n",
      "   ***\n",
      "  *****\n",
      " *******\n",
      "*********\n",
      " *********\n",
      "  *******\n",
      "   *****\n",
      "    ***\n",
      "     *\n"
     ]
    }
   ],
   "source": [
    "# double pattern\n",
    "\n",
    "n=int(input())\n",
    "\n",
    "upper_n=(n+1)//2\n",
    "down_n=n-upper_n\n",
    "\n",
    "for i in range(1, upper_n+1):\n",
    "    print(\" \" * (upper_n-i) + \"*\" * (2*i - 1))\n",
    "\n",
    "for i in range(1, down_n+1):\n",
    "    print(\" \" * i + \"*\" * (2*(down_n-i+1)-1))"
   ]
  },
  {
   "cell_type": "code",
   "execution_count": null,
   "id": "21b0b05d",
   "metadata": {},
   "outputs": [],
   "source": []
  }
 ],
 "metadata": {
  "kernelspec": {
   "display_name": "Python 3 (ipykernel)",
   "language": "python",
   "name": "python3"
  },
  "language_info": {
   "codemirror_mode": {
    "name": "ipython",
    "version": 3
   },
   "file_extension": ".py",
   "mimetype": "text/x-python",
   "name": "python",
   "nbconvert_exporter": "python",
   "pygments_lexer": "ipython3",
   "version": "3.10.9"
  }
 },
 "nbformat": 4,
 "nbformat_minor": 5
}
