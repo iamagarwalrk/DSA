{
 "cells": [
  {
   "cell_type": "code",
   "execution_count": 1,
   "id": "38f1efc2",
   "metadata": {},
   "outputs": [],
   "source": [
    "# Class Creation\n",
    "\n",
    "class Node:\n",
    "    \n",
    "    def __init__(self, data):\n",
    "        self.data=data\n",
    "        self.next=None\n",
    "        \n",
    "class LinkedList:\n",
    "    \n",
    "    def __init__(self):\n",
    "        self.head=None\n",
    "        self.tail=None\n",
    "    \n",
    "    def add(self, data):\n",
    "        if(self.head==None):\n",
    "            temp=Node(data)\n",
    "            self.head=temp\n",
    "            self.tail=temp\n",
    "        else:\n",
    "            temp=Node(data)\n",
    "            self.tail.next=temp\n",
    "            self.tail=self.tail.next\n",
    "            \n",
    "    def print(self):\n",
    "        node=self.head\n",
    "        while(node!=None):\n",
    "            print(node.data)\n",
    "            node=node.next"
   ]
  },
  {
   "cell_type": "code",
   "execution_count": 2,
   "id": "556ade12",
   "metadata": {},
   "outputs": [],
   "source": [
    "LL1=LinkedList()\n",
    "for i in range(10, 110, 10):\n",
    "    LL1.add(i)"
   ]
  },
  {
   "cell_type": "code",
   "execution_count": 4,
   "id": "1c8d9f36",
   "metadata": {},
   "outputs": [
    {
     "name": "stdout",
     "output_type": "stream",
     "text": [
      "10\n",
      "20\n",
      "30\n",
      "40\n",
      "50\n",
      "60\n",
      "70\n",
      "80\n",
      "90\n",
      "100\n"
     ]
    }
   ],
   "source": [
    "LL1.print()"
   ]
  },
  {
   "cell_type": "code",
   "execution_count": 5,
   "id": "d1751b70",
   "metadata": {},
   "outputs": [
    {
     "name": "stdout",
     "output_type": "stream",
     "text": [
      "10\n"
     ]
    }
   ],
   "source": [
    "# Length of LL\n",
    "\n",
    "def helper(head):\n",
    "    temp=head\n",
    "    length=0\n",
    "    while(temp!=None):\n",
    "        length+=1\n",
    "        temp=temp.next\n",
    "    return length\n",
    "\n",
    "length=helper(LL1.head)\n",
    "print(length)"
   ]
  },
  {
   "cell_type": "code",
   "execution_count": 6,
   "id": "7ecb347a",
   "metadata": {},
   "outputs": [
    {
     "name": "stdout",
     "output_type": "stream",
     "text": [
      "5\n",
      "60\n"
     ]
    }
   ],
   "source": [
    "# Print ith node\n",
    "\n",
    "def helper(head, i):\n",
    "    temp=head\n",
    "    while(temp!=None):\n",
    "        if i==0:\n",
    "            return temp.data\n",
    "        else:\n",
    "            i-=1\n",
    "            temp=temp.next\n",
    "    return -1\n",
    "\n",
    "i=int(input())\n",
    "data=helper(LL1.head, i)\n",
    "print(data)"
   ]
  },
  {
   "cell_type": "code",
   "execution_count": 7,
   "id": "e298b9eb",
   "metadata": {},
   "outputs": [
    {
     "name": "stdout",
     "output_type": "stream",
     "text": [
      "5\n",
      "10\n",
      "20\n",
      "30\n",
      "40\n",
      "50\n",
      "70\n",
      "80\n",
      "90\n",
      "100\n"
     ]
    }
   ],
   "source": [
    "# Delete node\n",
    "\n",
    "def helper(head, idx):\n",
    "    \n",
    "    # Base Case\n",
    "    if(head==None):\n",
    "        return None\n",
    "    \n",
    "    past=None\n",
    "    pre=head\n",
    "    fut=head.next\n",
    "    \n",
    "    #Side Case\n",
    "    if(idx==0):\n",
    "        return head.next\n",
    "    else: \n",
    "        for i in range(idx+1):\n",
    "            if(i==idx):\n",
    "                past.next=fut\n",
    "                return head\n",
    "            elif(fut==None):\n",
    "                return head\n",
    "            else:\n",
    "                past=pre\n",
    "                pre=fut\n",
    "                fut=fut.next\n",
    "        return head\n",
    "    \n",
    "idx=int(input())\n",
    "LL1.head=helper(LL1.head, idx)\n",
    "LL1.print()\n"
   ]
  },
  {
   "cell_type": "code",
   "execution_count": 8,
   "id": "0e224bdc",
   "metadata": {},
   "outputs": [
    {
     "name": "stdout",
     "output_type": "stream",
     "text": [
      "9\n"
     ]
    }
   ],
   "source": [
    "# Length of LL (recursive)\n",
    "\n",
    "def helper(head):\n",
    "    \n",
    "    if(head==None):\n",
    "        return 0\n",
    "    else:\n",
    "        return 1+helper(head.next)\n",
    "\n",
    "length=helper(LL1.head)\n",
    "print(length)"
   ]
  },
  {
   "cell_type": "code",
   "execution_count": 9,
   "id": "acdb4101",
   "metadata": {},
   "outputs": [
    {
     "name": "stdout",
     "output_type": "stream",
     "text": [
      "70\n",
      "5\n",
      "10\n",
      "20\n",
      "30\n",
      "40\n",
      "50\n",
      "70\n",
      "70\n",
      "80\n",
      "90\n",
      "100\n"
     ]
    }
   ],
   "source": [
    "# Insert node (recursive)\n",
    "\n",
    "def helper(head, idx, data):\n",
    "    if(head==None):\n",
    "        return None\n",
    "    elif(idx==0):\n",
    "        node=Node(data)\n",
    "        node.next=head\n",
    "        return node\n",
    "    else:\n",
    "        head.next=helper(head.next, idx-1, data)\n",
    "        return head\n",
    "\n",
    "data, idx=int(input()), int(input())\n",
    "LL1.head=helper(LL1.head, idx, data)\n",
    "LL1.print()"
   ]
  },
  {
   "cell_type": "code",
   "execution_count": 10,
   "id": "0f698e17",
   "metadata": {},
   "outputs": [
    {
     "name": "stdout",
     "output_type": "stream",
     "text": [
      "5\n",
      "10\n",
      "20\n",
      "30\n",
      "40\n",
      "50\n",
      "70\n",
      "80\n",
      "90\n",
      "100\n"
     ]
    }
   ],
   "source": [
    "# Delete node (recursive)\n",
    "\n",
    "def helper(head, idx):\n",
    "    \n",
    "    if(head==None):\n",
    "        return None\n",
    "    elif(idx==0):\n",
    "        return head.next\n",
    "    else:\n",
    "        head.next=helper(head.next, idx-1)\n",
    "        return head\n",
    "\n",
    "idx=int(input())\n",
    "LL1.head=helper(LL1.head, idx)\n",
    "LL1.print()"
   ]
  },
  {
   "cell_type": "code",
   "execution_count": 11,
   "id": "279e0728",
   "metadata": {},
   "outputs": [
    {
     "name": "stdout",
     "output_type": "stream",
     "text": [
      "50\n",
      "4\n"
     ]
    }
   ],
   "source": [
    "# Find a Node in Linked List\n",
    "\n",
    "def helper(head, data):\n",
    "    if(head==None):\n",
    "        return -1\n",
    "    elif(head.data==data):\n",
    "        return 0\n",
    "    else:\n",
    "        return 1+helper(head.next, data)\n",
    "\n",
    "data=int(input())\n",
    "idx=helper(LL1.head, data)\n",
    "print(idx)"
   ]
  },
  {
   "cell_type": "code",
   "execution_count": null,
   "id": "d32220c6",
   "metadata": {},
   "outputs": [
    {
     "name": "stdout",
     "output_type": "stream",
     "text": [
      "3\n"
     ]
    }
   ],
   "source": [
    "# Append Last N to First\n",
    "\n",
    "def helper3(head, idx):\n",
    "    if(idx==0):\n",
    "        return head\n",
    "    else:\n",
    "        return helper3(head.next, idx-1)\n",
    "\n",
    "def helper2(head):\n",
    "    \n",
    "    if(head==None):\n",
    "        return 0, None\n",
    "    else:\n",
    "        temp=head\n",
    "        size=1\n",
    "        while(temp.next!=None):\n",
    "            size+=1\n",
    "        return size, temp\n",
    "            \n",
    "        \n",
    "def helper(head, n):\n",
    "    \n",
    "    if(head==None or n==0):\n",
    "        return head\n",
    "    \n",
    "    size, tail=helper2(head)\n",
    "    if(n>size): return head\n",
    "    idx=size-n-1\n",
    "    new_tail=helper3(head, idx)\n",
    "    new_head=new_tail.next\n",
    "    tail.next=head\n",
    "    new_tail.next=None\n",
    "    return new_head\n",
    "\n",
    "n=int(input())\n",
    "helper(LL1.head, n)\n",
    "LL1.print()"
   ]
  },
  {
   "cell_type": "code",
   "execution_count": 12,
   "id": "87df4150",
   "metadata": {},
   "outputs": [
    {
     "name": "stdout",
     "output_type": "stream",
     "text": [
      "10\n",
      "10\n",
      "20\n",
      "30\n",
      "30\n",
      "40\n",
      "40\n",
      "50\n",
      "60\n",
      "70\n",
      "10\n",
      "20\n",
      "30\n",
      "40\n",
      "50\n",
      "60\n",
      "70\n"
     ]
    }
   ],
   "source": [
    "# Eliminate Duplicates - Consecutive\n",
    "\n",
    "def helper(head):\n",
    "    if(head==None or head.next==None):\n",
    "        return head\n",
    "    else:\n",
    "        fut=head.next\n",
    "        if(head.data==fut.data):\n",
    "            head.next=fut.next\n",
    "        helper(head.next)\n",
    "        return head\n",
    "\n",
    "\n",
    "LL2=LinkedList()\n",
    "for i in range(10):\n",
    "    LL2.add(int(input()))\n",
    "\n",
    "LL2.head=helper(LL2.head)\n",
    "LL2.print()"
   ]
  },
  {
   "cell_type": "code",
   "execution_count": 13,
   "id": "0fdc3cb3",
   "metadata": {},
   "outputs": [
    {
     "name": "stdout",
     "output_type": "stream",
     "text": [
      "70\n",
      "60\n",
      "50\n",
      "40\n",
      "30\n",
      "20\n",
      "10\n"
     ]
    }
   ],
   "source": [
    "# Print Reversed Linked List\n",
    "\n",
    "def helper(head):\n",
    "    if(head==None):\n",
    "        return\n",
    "    elif(head.next==None):\n",
    "        print(head.data)\n",
    "        return\n",
    "    else:\n",
    "        helper(head.next)\n",
    "        print(head.data)\n",
    "        return\n",
    "\n",
    "helper(LL2.head)"
   ]
  },
  {
   "cell_type": "code",
   "execution_count": 18,
   "id": "0c86c390",
   "metadata": {},
   "outputs": [
    {
     "name": "stdout",
     "output_type": "stream",
     "text": [
      "False\n"
     ]
    }
   ],
   "source": [
    "# Palindrome Linked List\n",
    "\n",
    "def helper(head):\n",
    "    if(head==None or head.next==None):\n",
    "        return True\n",
    "    else:\n",
    "        stack=[]\n",
    "        temp=head\n",
    "        while(temp!=None):\n",
    "            \n",
    "            if(len(stack)!=0) and (stack[len(stack)-1]==temp.data):\n",
    "                stack.pop()\n",
    "            else:\n",
    "                stack.append(temp.data)\n",
    "            temp=temp.next\n",
    "        if(len(stack)==0):\n",
    "            return True\n",
    "        else: return False\n",
    "\n",
    "pal=helper(LL1.head)\n",
    "print(pal)"
   ]
  },
  {
   "cell_type": "code",
   "execution_count": null,
   "id": "0f7f6246",
   "metadata": {},
   "outputs": [],
   "source": [
    "# Midpoint of LL\n",
    "\n",
    "def helper(head):\n",
    "    fast=head\n",
    "    slow=head\n",
    "    while(fast.next!=None and fast.next.next!=None):\n",
    "        slow=slow.next\n",
    "        fast=fast.next.next\n",
    "    return slow\n",
    "\n",
    "LL3=LinkedList()\n",
    "n=int(input())\n",
    "for i in range(n):\n",
    "    num=int(input())\n",
    "    LL3.add(num)\n",
    "    \n",
    "mid=helper(LL3.head)\n",
    "print(mid.data)"
   ]
  },
  {
   "cell_type": "code",
   "execution_count": 4,
   "id": "04bc8940",
   "metadata": {},
   "outputs": [
    {
     "name": "stdout",
     "output_type": "stream",
     "text": [
      "6\n",
      "1\n",
      "2\n",
      "3\n",
      "4\n",
      "5\n",
      "6\n",
      "5\n",
      "2\n",
      "4\n",
      "6\n",
      "8\n",
      "10\n"
     ]
    },
    {
     "ename": "NameError",
     "evalue": "name 'none' is not defined",
     "output_type": "error",
     "traceback": [
      "\u001b[1;31m---------------------------------------------------------------------------\u001b[0m",
      "\u001b[1;31mNameError\u001b[0m                                 Traceback (most recent call last)",
      "Cell \u001b[1;32mIn[4], line 50\u001b[0m\n\u001b[0;32m     47\u001b[0m     LL5\u001b[38;5;241m.\u001b[39madd(\u001b[38;5;28mint\u001b[39m(\u001b[38;5;28minput\u001b[39m()))\n\u001b[0;32m     49\u001b[0m LL6\u001b[38;5;241m=\u001b[39mLinkedList()\n\u001b[1;32m---> 50\u001b[0m LL6\u001b[38;5;241m.\u001b[39mhead\u001b[38;5;241m=\u001b[39m\u001b[43mhelper\u001b[49m\u001b[43m(\u001b[49m\u001b[43mLL4\u001b[49m\u001b[38;5;241;43m.\u001b[39;49m\u001b[43mhead\u001b[49m\u001b[43m,\u001b[49m\u001b[43m \u001b[49m\u001b[43mLL5\u001b[49m\u001b[38;5;241;43m.\u001b[39;49m\u001b[43mhead\u001b[49m\u001b[43m)\u001b[49m\n\u001b[0;32m     51\u001b[0m LL6\u001b[38;5;241m.\u001b[39mprint()\n",
      "Cell \u001b[1;32mIn[4], line 20\u001b[0m, in \u001b[0;36mhelper\u001b[1;34m(head1, head2)\u001b[0m\n\u001b[0;32m     18\u001b[0m     new_tail\u001b[38;5;241m=\u001b[39mhead1\n\u001b[0;32m     19\u001b[0m new_head\u001b[38;5;241m.\u001b[39mnext\u001b[38;5;241m=\u001b[39mnew_tail\n\u001b[1;32m---> 20\u001b[0m \u001b[38;5;28;01mwhile\u001b[39;00m(temp1\u001b[38;5;241m!=\u001b[39m\u001b[38;5;28;01mNone\u001b[39;00m \u001b[38;5;129;01mand\u001b[39;00m temp2\u001b[38;5;241m!=\u001b[39m\u001b[43mnone\u001b[49m):\n\u001b[0;32m     21\u001b[0m     \u001b[38;5;28;01mif\u001b[39;00m(temp1\u001b[38;5;241m.\u001b[39mdata\u001b[38;5;241m<\u001b[39mtemp2\u001b[38;5;241m.\u001b[39mdata):\n\u001b[0;32m     22\u001b[0m         new_tail\u001b[38;5;241m.\u001b[39mnext\u001b[38;5;241m=\u001b[39mtemp1\n",
      "\u001b[1;31mNameError\u001b[0m: name 'none' is not defined"
     ]
    }
   ],
   "source": [
    "# Merge Two Sorted LL\n",
    "\n",
    "def helper(head1, head2):\n",
    "    \n",
    "    if(head1==None and head2==None):\n",
    "        return None\n",
    "    elif(head1==None and head2!=None):\n",
    "        return head2\n",
    "    elif(head1!=None and head2==None):\n",
    "        return head1\n",
    "    else:\n",
    "        temp1, temp2=head1.next, head2.next\n",
    "        if(head1.data<head2.data):\n",
    "            new_head=head1\n",
    "            new_tail=head2\n",
    "        else:\n",
    "            new_head=head2\n",
    "            new_tail=head1\n",
    "        new_head.next=new_tail\n",
    "        while(temp1!=None and temp2!=none):\n",
    "            if(temp1.data<temp2.data):\n",
    "                new_tail.next=temp1\n",
    "                temp1=temp1.next\n",
    "                new_tail=new_tail.next\n",
    "            else:\n",
    "                new_tail.next=temp2\n",
    "                temp2=temp2.next\n",
    "                new_tail=new_tail.next\n",
    "        if(temp1!=None):\n",
    "            new_tail.next=temp1\n",
    "        elif(temp2!=None):\n",
    "            new_tail.next=temp2\n",
    "        else:\n",
    "            new_tail.next=None\n",
    "        return new_head\n",
    "        \n",
    "    \n",
    "\n",
    "\n",
    "LL4=LinkedList()\n",
    "n1=int(input())\n",
    "for i in range(n1):\n",
    "    LL4.add(int(input()))\n",
    "LL5=LinkedList()\n",
    "n2=int(input())\n",
    "for i in range(n2):\n",
    "    LL5.add(int(input()))\n",
    "\n",
    "LL6=LinkedList()\n",
    "LL6.head=helper(LL4.head, LL5.head)\n",
    "LL6.print()"
   ]
  },
  {
   "cell_type": "code",
   "execution_count": 5,
   "id": "d3e5bcf5",
   "metadata": {},
   "outputs": [
    {
     "name": "stdout",
     "output_type": "stream",
     "text": [
      "6\n",
      "2\n",
      "8\n",
      "1\n",
      "9\n",
      "3\n",
      "7\n",
      "1\n",
      "3\n",
      "2\n",
      "7\n",
      "8\n",
      "9\n"
     ]
    }
   ],
   "source": [
    "# Merge Sort\n",
    "\n",
    "def helpermerge(head1, head2):\n",
    "    \n",
    "    if(head1==None and head2==None):\n",
    "        return None\n",
    "    elif(head1!=None and head2==None):\n",
    "        return head1\n",
    "    elif(head1==None and head2!=None):\n",
    "        return head2\n",
    "    else:\n",
    "        temp1, temp2=head1.next, head2.next\n",
    "        if(head1.data<head2.data):\n",
    "            new_head, new_tail=head1, head2\n",
    "        else:\n",
    "            new_head, new_tail=head2, head1\n",
    "        new_head.next=new_tail\n",
    "        \n",
    "        while(temp1!=None and temp2!=None):\n",
    "            if(temp1.data<temp2.data):\n",
    "                new_tail.next=temp1\n",
    "                new_tail=new_tail.next\n",
    "                temp1=temp1.next\n",
    "            else:\n",
    "                new_tail.next=temp2\n",
    "                new_tail=new_tail.next\n",
    "                temp2=temp2.next\n",
    "        if(temp1!=None):\n",
    "            new_tail.next=temp1\n",
    "        elif(temp2!=None):\n",
    "            new_tail.next=temp2\n",
    "        else:\n",
    "            new_tail.next=None\n",
    "        return new_head\n",
    "    \n",
    "def helperpart(head):\n",
    "    fast=head\n",
    "    slow=head\n",
    "    while(fast.next!=None and fast.next.next!=None):\n",
    "        slow=slow.next\n",
    "        fast=fast.next.next\n",
    "    part=slow.next\n",
    "    slow.next=None\n",
    "    return head, part\n",
    "\n",
    "def helper(head):\n",
    "    if(head==None or head.next==None):\n",
    "        return head\n",
    "    else:\n",
    "        part1, part2 =helperpart(head)\n",
    "        part1=helper(part1)\n",
    "        part2=helper(part2)\n",
    "        head=helpermerge(part1, part2)\n",
    "        return head\n",
    "\n",
    "n=int(input())\n",
    "LL7=LinkedList()\n",
    "for i in range(n):\n",
    "    LL7.add(int(input()))\n",
    "LL7.head=helper(LL7.head)\n",
    "LL7.print()"
   ]
  },
  {
   "cell_type": "code",
   "execution_count": 7,
   "id": "98ce7ba3",
   "metadata": {},
   "outputs": [
    {
     "name": "stdout",
     "output_type": "stream",
     "text": [
      "5\n",
      "1\n",
      "2\n",
      "3\n",
      "4\n",
      "5\n",
      "5\n",
      "4\n",
      "3\n",
      "2\n",
      "1\n"
     ]
    }
   ],
   "source": [
    "# Reverse LL (Recursive)\n",
    "\n",
    "\n",
    "def helper(head):\n",
    "    \n",
    "    if(head==None or head.next==None):\n",
    "        return head\n",
    "    \n",
    "    new_head=helper(head.next)\n",
    "    head.next.next=head\n",
    "    head.next=None\n",
    "    return new_head\n",
    "    \n",
    "    \n",
    "\n",
    "n=int(input())\n",
    "LL=LinkedList()\n",
    "for i in range(n):\n",
    "    LL.add(int(input()))\n",
    "LL.head=helper(LL.head)\n",
    "LL.print()"
   ]
  },
  {
   "cell_type": "code",
   "execution_count": 8,
   "id": "a6874967",
   "metadata": {},
   "outputs": [
    {
     "name": "stdout",
     "output_type": "stream",
     "text": [
      "6\n",
      "1\n",
      "2\n",
      "3\n",
      "4\n",
      "5\n",
      "6\n",
      "6\n",
      "5\n",
      "4\n",
      "3\n",
      "2\n",
      "1\n"
     ]
    }
   ],
   "source": [
    "# Reverse LL (Iterative)\n",
    "\n",
    "def helper(head):\n",
    "    \n",
    "    if(head==None or head.next==None):\n",
    "        return head\n",
    "    else:\n",
    "        fut=head\n",
    "        new_head=None\n",
    "        while(fut!=None):\n",
    "            temp=fut\n",
    "            fut=fut.next\n",
    "            temp.next=new_head\n",
    "            new_head=temp\n",
    "        return new_head\n",
    "\n",
    "LL=LinkedList()\n",
    "n=int(input())\n",
    "for i in range(n):\n",
    "    LL.add(int(input()))\n",
    "LL.head=helper(LL.head)\n",
    "LL.print()"
   ]
  },
  {
   "cell_type": "code",
   "execution_count": 9,
   "id": "02952bcf",
   "metadata": {},
   "outputs": [
    {
     "name": "stdout",
     "output_type": "stream",
     "text": [
      "5\n",
      "1\n",
      "2\n",
      "3\n",
      "4\n",
      "5\n",
      "3\n",
      "2\n"
     ]
    }
   ],
   "source": [
    "# Find a Node in LL (recursive)\n",
    "\n",
    "def helper(head, data):\n",
    "    \n",
    "    if(head==None):\n",
    "        return -1\n",
    "    elif(head.data==data):\n",
    "        return 0\n",
    "    else:\n",
    "        n=helper(head.next, data)\n",
    "        if(n==-1):\n",
    "            return -1\n",
    "        else:\n",
    "            return 1+n\n",
    "        \n",
    "n=int(input())\n",
    "LL=LinkedList()\n",
    "for i in range(n):\n",
    "    LL.add(int(input()))\n",
    "data=int(input())\n",
    "print(helper(LL.head, data))\n",
    "    "
   ]
  },
  {
   "cell_type": "code",
   "execution_count": 5,
   "id": "9efbed0d",
   "metadata": {},
   "outputs": [
    {
     "name": "stdout",
     "output_type": "stream",
     "text": [
      "6\n",
      "2\n",
      "4\n",
      "6\n",
      "8\n",
      "10\n",
      "12\n",
      "2\n",
      "4\n",
      "6\n",
      "8\n",
      "10\n",
      "12\n"
     ]
    }
   ],
   "source": [
    "# Even after Odd Linked List\n",
    "\n",
    "def helper(head):\n",
    "    if(head==None or head.next==None):\n",
    "        return head\n",
    "    else:\n",
    "        oddhead, evenhead=None, None\n",
    "        oddtemp, eventemp=None, None\n",
    "        temp=head\n",
    "        while(temp!=None):\n",
    "            if(temp.data & 1==1) and oddhead==None:\n",
    "                oddhead, oddtemp=temp, temp\n",
    "            elif(temp.data & 1==1) and oddhead!=None:\n",
    "                oddtemp.next=temp\n",
    "                oddtemp=oddtemp.next\n",
    "            elif(temp.data & 1==0) and evenhead==None:\n",
    "                evenhead, eventemp=temp, temp\n",
    "            elif(temp.data & 1==0) and evenhead!=None:\n",
    "                eventemp.next=temp\n",
    "                eventemp=eventemp.next\n",
    "            temp=temp.next\n",
    "        if(eventemp!=None): eventemp.next=None\n",
    "        if(oddtemp!=None): oddtemp.next=evenhead\n",
    "        else: return evenhead\n",
    "        return oddhead\n",
    "            \n",
    "        \n",
    "\n",
    "LL=LinkedList()\n",
    "n=int(input())\n",
    "for i in range(n):\n",
    "    LL.add(int(input()))\n",
    "LL.head=helper(LL.head)\n",
    "LL.print()"
   ]
  },
  {
   "cell_type": "code",
   "execution_count": 12,
   "id": "9c680a19",
   "metadata": {},
   "outputs": [
    {
     "name": "stdout",
     "output_type": "stream",
     "text": [
      "9\n",
      "1\n",
      "2\n",
      "3\n",
      "4\n",
      "5\n",
      "6\n",
      "7\n",
      "8\n",
      "9\n",
      "3\n",
      "2\n",
      "1\n",
      "2\n",
      "3\n",
      "6\n",
      "7\n",
      "8\n"
     ]
    }
   ],
   "source": [
    "# Delete every N nodes - Need Review\n",
    "\n",
    "def helper1(head, num):\n",
    "    temp=head\n",
    "    while(temp!=None and num>0):\n",
    "        temp=temp.next\n",
    "        num-=1\n",
    "    return temp\n",
    "\n",
    "def helper(head, M, N):\n",
    "    if(head==None or N<=0):\n",
    "        return head\n",
    "    elif(M<=0):\n",
    "        return None\n",
    "    else:\n",
    "        temp=head\n",
    "        while True:\n",
    "            temp=helper1(temp, M-1)\n",
    "            if(temp==None): break\n",
    "            temp.next=helper1(temp.next, N)\n",
    "            if(temp.next==None): break\n",
    "            temp=temp.next\n",
    "        return head\n",
    "        \n",
    "\n",
    "LL=LinkedList()\n",
    "n=int(input())\n",
    "for i in range(n):\n",
    "    LL.add(int(input()))\n",
    "M, N=int(input()), int(input())\n",
    "LL.head=helper(LL.head, M, N)\n",
    "LL.print()"
   ]
  },
  {
   "cell_type": "code",
   "execution_count": 1,
   "id": "76541394",
   "metadata": {},
   "outputs": [],
   "source": [
    "# Swap Two Nodes of Linked List\n",
    "\n",
    "def helper1(head, idx):\n",
    "    past, pre, fut=None, None, None\n",
    "    temp=head\n",
    "    while(temp!=None):\n",
    "        if(idx==0):\n",
    "            pre=temp\n",
    "            fut=temp.next\n",
    "            return past, pre, fut\n",
    "        else:\n",
    "            past=temp\n",
    "            temp=temp.next\n",
    "            idx-=1\n",
    "        return None, None, None\n",
    "\n",
    "def helper(head, i, j):\n",
    "    if(head==None or head.next==None or i==j):\n",
    "        return head\n",
    "    else:\n",
    "        ipre, isize=helper1(head, i)\n",
    "        jpre, jsize=helper1(head, j)\n",
    "        if(isize<i or jsize<j): return head\n",
    "        elif(ipre!=None and jpre!=None):\n",
    "            itemp=ipre.next\n",
    "            jtemp=jpre.next\n",
    "            \n",
    "            \n",
    "        \n",
    "        \n",
    "        \n",
    "    \n",
    "        "
   ]
  },
  {
   "cell_type": "code",
   "execution_count": null,
   "id": "64a06059",
   "metadata": {},
   "outputs": [],
   "source": [
    "# kReverse\n",
    "\n",
    "def helper(head, k):\n",
    "    \n",
    "    temp=head\n",
    "    head, temp=\n",
    "    while(temp!=None):\n",
    "        \n",
    "\n"
   ]
  }
 ],
 "metadata": {
  "kernelspec": {
   "display_name": "Python 3 (ipykernel)",
   "language": "python",
   "name": "python3"
  },
  "language_info": {
   "codemirror_mode": {
    "name": "ipython",
    "version": 3
   },
   "file_extension": ".py",
   "mimetype": "text/x-python",
   "name": "python",
   "nbconvert_exporter": "python",
   "pygments_lexer": "ipython3",
   "version": "3.10.9"
  }
 },
 "nbformat": 4,
 "nbformat_minor": 5
}
