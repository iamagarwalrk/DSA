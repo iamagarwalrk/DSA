{
 "cells": [
  {
   "cell_type": "code",
   "execution_count": 3,
   "id": "0f083450",
   "metadata": {},
   "outputs": [
    {
     "name": "stdout",
     "output_type": "stream",
     "text": [
      "rtyuuytr\n",
      "True\n"
     ]
    }
   ],
   "source": [
    "def helper(s):\n",
    "    for i in range(len(s)):\n",
    "        if(s[i]!=s[len(s)-1-i]):\n",
    "            return False\n",
    "    return True\n",
    "\n",
    "s=input()\n",
    "print(helper(s))"
   ]
  },
  {
   "cell_type": "code",
   "execution_count": 4,
   "id": "8f182060",
   "metadata": {},
   "outputs": [
    {
     "name": "stdout",
     "output_type": "stream",
     "text": [
      "66526\n",
      "25\n"
     ]
    }
   ],
   "source": [
    "def helper(num):\n",
    "    if(num==0):\n",
    "        return 0\n",
    "    else:\n",
    "        return (num%10)+helper(num//10)\n",
    "num=int(input())\n",
    "print(helper(num))"
   ]
  },
  {
   "cell_type": "code",
   "execution_count": 12,
   "id": "0b7521ba",
   "metadata": {},
   "outputs": [
    {
     "name": "stdout",
     "output_type": "stream",
     "text": [
      "Enter any string:\n",
      "pipipippppiii\n",
      "3.1423.1423.142ppp3.142ii\n"
     ]
    }
   ],
   "source": [
    " #need to check             \n",
    "        \n",
    "s=input(\"Enter any string:\\n\")\n",
    "print(s.replace('pi', '3.142'))"
   ]
  },
  {
   "cell_type": "code",
   "execution_count": 10,
   "id": "c7224254",
   "metadata": {},
   "outputs": [
    {
     "name": "stdout",
     "output_type": "stream",
     "text": [
      "Enter any stringxkdx\n",
      "kd\n"
     ]
    }
   ],
   "source": [
    "#Remove X\n",
    "\n",
    "s=input(\"Enter any string\")\n",
    "print(s.replace('x', ''))"
   ]
  },
  {
   "cell_type": "code",
   "execution_count": 17,
   "id": "623391c4",
   "metadata": {},
   "outputs": [
    {
     "name": "stdout",
     "output_type": "stream",
     "text": [
      "5\n"
     ]
    },
    {
     "ename": "TypeError",
     "evalue": "'int' object is not subscriptable",
     "output_type": "error",
     "traceback": [
      "\u001b[1;31m---------------------------------------------------------------------------\u001b[0m",
      "\u001b[1;31mTypeError\u001b[0m                                 Traceback (most recent call last)",
      "Cell \u001b[1;32mIn[17], line 7\u001b[0m\n\u001b[0;32m      5\u001b[0m x\u001b[38;5;241m=\u001b[39m\u001b[38;5;241m5\u001b[39m\n\u001b[0;32m      6\u001b[0m \u001b[38;5;28mprint\u001b[39m(x)\n\u001b[1;32m----> 7\u001b[0m \u001b[43mhelper\u001b[49m\u001b[43m(\u001b[49m\u001b[43mx\u001b[49m\u001b[43m)\u001b[49m\n\u001b[0;32m      8\u001b[0m \u001b[38;5;28mprint\u001b[39m(x[\u001b[38;5;241m0\u001b[39m])\n",
      "Cell \u001b[1;32mIn[17], line 2\u001b[0m, in \u001b[0;36mhelper\u001b[1;34m(x)\u001b[0m\n\u001b[0;32m      1\u001b[0m \u001b[38;5;28;01mdef\u001b[39;00m \u001b[38;5;21mhelper\u001b[39m(x):\n\u001b[1;32m----> 2\u001b[0m     x[\u001b[38;5;241m0\u001b[39m]\u001b[38;5;241m+\u001b[39m\u001b[38;5;241m=\u001b[39m\u001b[38;5;241m5\u001b[39m\n\u001b[0;32m      3\u001b[0m     \u001b[38;5;28mprint\u001b[39m(x)\n\u001b[0;32m      4\u001b[0m     \u001b[38;5;28;01mreturn\u001b[39;00m\n",
      "\u001b[1;31mTypeError\u001b[0m: 'int' object is not subscriptable"
     ]
    }
   ],
   "source": [
    "def helper(x):\n",
    "    x+=5\n",
    "    print(x)\n",
    "    return\n",
    "x=5\n",
    "print(x)\n",
    "helper(x)\n",
    "print(x[0])"
   ]
  },
  {
   "cell_type": "code",
   "execution_count": 2,
   "id": "2de95c8f",
   "metadata": {},
   "outputs": [
    {
     "name": "stdout",
     "output_type": "stream",
     "text": [
      "Enter any string:\n",
      "pipinn\n",
      "3.1423.142nn\n"
     ]
    }
   ],
   "source": [
    "# Replace pi (recursive)\n",
    "\n",
    "def helper(s):\n",
    "    return s.replace('pi', '3.142')\n",
    "\n",
    "s=input(\"Enter any string:\\n\")\n",
    "s=helper(s)\n",
    "print(s)"
   ]
  },
  {
   "cell_type": "code",
   "execution_count": 3,
   "id": "86d7cc91",
   "metadata": {},
   "outputs": [
    {
     "name": "stdout",
     "output_type": "stream",
     "text": [
      "Enter any String:\n",
      "xsddszxsadxxxx\n",
      "sddszsad\n"
     ]
    }
   ],
   "source": [
    "# Remove x\n",
    "\n",
    "def helper(s):\n",
    "    return s.replace('x', '')\n",
    "\n",
    "s=input(\"Enter any String:\\n\")\n",
    "s=helper(s)\n",
    "print(s)"
   ]
  },
  {
   "cell_type": "code",
   "execution_count": 7,
   "id": "2d2b26b7",
   "metadata": {},
   "outputs": [
    {
     "name": "stdout",
     "output_type": "stream",
     "text": [
      "Enter any number string:\n",
      "234dsd4\n",
      "None\n"
     ]
    }
   ],
   "source": [
    "# String to Integer\n",
    "\n",
    "def helper(s):\n",
    "    if(s.isdigit()):\n",
    "        return int(s)\n",
    "    else:\n",
    "        return None\n",
    "\n",
    "s=input(\"Enter any number string:\\n\")\n",
    "ans=helper(s)\n",
    "print(ans)"
   ]
  },
  {
   "cell_type": "code",
   "execution_count": 22,
   "id": "1031a5dc",
   "metadata": {},
   "outputs": [
    {
     "name": "stdout",
     "output_type": "stream",
     "text": [
      "Enter any string:\n",
      "fdfdfdddddvdd\n",
      "fdfdfd*d*d*d*dvdd\n"
     ]
    }
   ],
   "source": [
    "# Pair Star\n",
    "\n",
    "def helper(s):\n",
    "    for i in range(len(s)-1):\n",
    "        if(s[i] == s[i+1]):\n",
    "            s=''.join((s[:i+1], '*', s[i+1:]))\n",
    "    return s\n",
    "\n",
    "s=input(\"Enter any string:\\n\")\n",
    "s=helper(s)\n",
    "print(s)"
   ]
  },
  {
   "cell_type": "code",
   "execution_count": 10,
   "id": "669b6074",
   "metadata": {},
   "outputs": [
    {
     "name": "stdout",
     "output_type": "stream",
     "text": [
      "23\n",
      "24\n"
     ]
    }
   ],
   "source": [
    "# Test Case\n",
    "\n",
    "def helper(num):\n",
    "    num+=1\n",
    "    return num\n",
    "    \n",
    "num=int(input())\n",
    "print(helper(num))"
   ]
  },
  {
   "cell_type": "code",
   "execution_count": 35,
   "id": "a1893b51",
   "metadata": {},
   "outputs": [
    {
     "name": "stdout",
     "output_type": "stream",
     "text": [
      "Enter any string:\n",
      "sdfdsf\n",
      "Enter any char:\n",
      "f\n",
      "Enter any char:\n",
      "a\n",
      "sdadsa\n"
     ]
    }
   ],
   "source": [
    "# Replace character recursively\n",
    "\n",
    "def helper(s, c1, c2, idx):\n",
    "    if(idx==len(s)):\n",
    "        return s\n",
    "    if(s[idx]==c1):\n",
    "        s=''.join((s[:idx], c2, s[idx+1:]))\n",
    "    s=helper(s, c1, c2, idx+1)\n",
    "    return s\n",
    "\n",
    "s=input(\"Enter any string:\\n\")\n",
    "c1=input('Enter any char:\\n')[0]\n",
    "c2=input(\"Enter any char:\\n\")[0]\n",
    "s=helper(s, c1, c2, 0)\n",
    "print(s)"
   ]
  },
  {
   "cell_type": "code",
   "execution_count": 39,
   "id": "75f5b70e",
   "metadata": {
    "scrolled": true
   },
   "outputs": [
    {
     "name": "stdout",
     "output_type": "stream",
     "text": [
      "Enter any string:\n",
      "sdfsdfdfdffdfdddddsfdfds\n",
      "sdfsdfdfdfdfdsfdfds\n"
     ]
    }
   ],
   "source": [
    "# Remove Duplicate Recursively\n",
    "\n",
    "def helper(s, i):\n",
    "    \n",
    "    if i==len(s)-1:\n",
    "        return s\n",
    "    \n",
    "    if(s[i]==s[i+1]):\n",
    "        s=''.join((s[:i], s[i+1:]))\n",
    "        s=helper(s, i)\n",
    "    else:\n",
    "        s=helper(s, i+1)\n",
    "    return s\n",
    "\n",
    "s=input(\"Enter any string:\\n\")\n",
    "s=helper(s, 0)\n",
    "print(s)"
   ]
  },
  {
   "cell_type": "code",
   "execution_count": 22,
   "id": "301f7d19",
   "metadata": {},
   "outputs": [
    {
     "name": "stdout",
     "output_type": "stream",
     "text": [
      "Enter any array:\n",
      "2 5 6 752 57654 54 5345 54\n",
      "[2, 5, 6, 54, 54, 752, 5345, 57654]\n"
     ]
    }
   ],
   "source": [
    "# Merge Sort Code\n",
    "\n",
    "def merge(arr, left, mid, right):\n",
    "    \n",
    "    new_arr=list()\n",
    "    i=0\n",
    "    j=0\n",
    "    while i<=(mid-left) and j<=(right-mid-1):\n",
    "        if(arr[left+i]<=arr[mid+1+j]):\n",
    "            new_arr.append(arr[left+i])\n",
    "            i+=1\n",
    "        else:\n",
    "            new_arr.append(arr[mid+1+j])\n",
    "            j+=1\n",
    "    \n",
    "    for idx in range(i, mid-left+1):\n",
    "        new_arr.append(arr[left+idx])\n",
    "    \n",
    "    for idx in range(j, right-mid):\n",
    "        new_arr.append(arr[mid+1+idx])\n",
    "        \n",
    "    #print(new_arr)\n",
    "    return new_arr\n",
    "\n",
    "def mergesort(arr, left, right):\n",
    "    if(left>=right):\n",
    "        return arr\n",
    "    mid=left+((right-left)//2)\n",
    "    mergesort(arr, left, mid)\n",
    "    mergesort(arr, mid+1, right)\n",
    "    arr[left:right+1]=merge(arr, left, mid, right)\n",
    "    return arr \n",
    "\n",
    "arr=list(map(int, input(\"Enter any array:\\n\").split()))\n",
    "arr=mergesort(arr, 0, len(arr)-1)\n",
    "print(arr)"
   ]
  },
  {
   "cell_type": "code",
   "execution_count": 21,
   "id": "ddf6de2f",
   "metadata": {},
   "outputs": [
    {
     "name": "stdout",
     "output_type": "stream",
     "text": [
      "[1, 2, 3, 123]\n"
     ]
    }
   ],
   "source": [
    "def lst(arr):\n",
    "    arr.append(123)\n",
    "\n",
    "arr=list((1, 2, 3))\n",
    "lst(arr)\n",
    "print(arr)"
   ]
  },
  {
   "cell_type": "code",
   "execution_count": 25,
   "id": "adc08978",
   "metadata": {},
   "outputs": [
    {
     "name": "stdout",
     "output_type": "stream",
     "text": [
      "Enter any array:\n",
      "2 5 6 752 57654 54 5345 54\n",
      "[2, 5, 6, 54, 57654, 54, 5345, 752]\n",
      "[2, 5, 6, 54, 57654, 54, 5345, 752]\n",
      "[2, 5, 6, 54, 57654, 54, 5345, 752]\n",
      "[2, 5, 6, 54, 57654, 54, 5345, 752]\n"
     ]
    }
   ],
   "source": [
    "#Need to check\n",
    "\n",
    "def quicksort(arr, left, right):\n",
    "    \n",
    "    i=left\n",
    "    j=right-1\n",
    "    \n",
    "    while i<j:\n",
    "        if(arr[i]<=arr[right] and arr[j]>arr[right]):\n",
    "            i+=1\n",
    "            j-=1\n",
    "        elif(arr[i]<=arr[right]):\n",
    "            i+=1\n",
    "        elif(arr[j]>arr[right]):\n",
    "            j-=1\n",
    "        else:\n",
    "            arr[i], arr[j]=arr[j], arr[i]\n",
    "    \n",
    "    arr[j+1], arr[right]=arr[right], arr[j+1]\n",
    "    print(arr)\n",
    "    \n",
    "    if(left<j-1):\n",
    "        arr[left:j]=quicksort(arr, left, j-1)\n",
    "    \n",
    "    if(j+1>right):\n",
    "        arr[j+1:right+1]=quicksort(arr, j+1, right)\n",
    "    \n",
    "    return arr[left:right+1]\n",
    "    \n",
    "\n",
    "arr=list(map(int, input(\"Enter any array:\\n\").split()))\n",
    "arr=quicksort(arr, 0, len(arr)-1)\n",
    "print(arr)"
   ]
  },
  {
   "cell_type": "code",
   "execution_count": null,
   "id": "1712742d",
   "metadata": {},
   "outputs": [],
   "source": [
    "# Return/Print Keypad Code\n",
    "\n",
    "def helper(num, arr):\n",
    "    \n",
    "    if(num==0):\n",
    "        return arr\n",
    "    \n",
    "    n=num%10\n",
    "    \n",
    "    if(n==1):\n",
    "        \n",
    "        \n",
    "            \n",
    "    \n",
    "\n",
    "num=int(input(\"Enter any no.:\\n\"))\n",
    "arr=list()\n",
    "arr=helper(num, arr)\n",
    "print(arr)"
   ]
  },
  {
   "cell_type": "code",
   "execution_count": 31,
   "id": "1ff87f78",
   "metadata": {},
   "outputs": [
    {
     "name": "stdout",
     "output_type": "stream",
     "text": [
      "Enter any array of a and b:\n",
      "bb\n",
      "False\n"
     ]
    }
   ],
   "source": [
    "# check AB\n",
    "\n",
    "def helper(arr, idx):\n",
    "\n",
    "    if(idx>=len(arr)):\n",
    "        return True\n",
    "    \n",
    "    if(idx==0):\n",
    "        if(arr[idx]=='a'):\n",
    "            return helper(arr, idx+1)\n",
    "        else:\n",
    "            return False\n",
    "    \n",
    "    if(arr[idx]=='a'):\n",
    "        return helper(arr, idx+1)\n",
    "    elif(arr[idx]=='b'):\n",
    "        if(idx+1!=len(arr) and arr[idx+1]=='b'):\n",
    "            return helper(arr, idx+2)\n",
    "        else:\n",
    "            return False\n",
    "\n",
    "arr=input(\"Enter any array of a and b:\\n\")\n",
    "print(helper(arr, 0))\n",
    "        "
   ]
  },
  {
   "cell_type": "code",
   "execution_count": 35,
   "id": "cd739998",
   "metadata": {},
   "outputs": [
    {
     "name": "stdout",
     "output_type": "stream",
     "text": [
      "Enter any number:\n",
      "4\n",
      "7\n"
     ]
    }
   ],
   "source": [
    "#Staircase\n",
    "\n",
    "def helper(num):\n",
    "    if(num==0):\n",
    "        return 1\n",
    "    elif(num<0):\n",
    "        return 0\n",
    "    else:\n",
    "        return helper(num-1)+helper(num-2)+helper(num-3)\n",
    "\n",
    "num=int(input(\"Enter any number:\\n\"))\n",
    "print(helper(num))"
   ]
  },
  {
   "cell_type": "code",
   "execution_count": 40,
   "id": "7d91a900",
   "metadata": {},
   "outputs": [
    {
     "name": "stdout",
     "output_type": "stream",
     "text": [
      "Enter any array:\n",
      "5 4 3 2 1\n",
      "[1, 2, 3, 4, 5]\n",
      "Enter number to search:\n",
      "5\n",
      "5\n"
     ]
    }
   ],
   "source": [
    "#Binary Search Recursive\n",
    "\n",
    "def helper(arr, beg, end, num):\n",
    "    if(num<arr[beg] or num>arr[end]):\n",
    "        return -1\n",
    "    \n",
    "    if(arr[beg]==num):\n",
    "        return beg\n",
    "    elif(arr[end]==num):\n",
    "        return end\n",
    "    else:\n",
    "        mid=beg+(end-beg)//2\n",
    "        if(arr[mid]>num):\n",
    "            return helper(arr, beg, mid, num)\n",
    "        else:\n",
    "            return helper(arr, mid, end, num)\n",
    "\n",
    "arr=list(map(int, input(\"Enter any array:\\n\").split()))\n",
    "arr.sort()\n",
    "print(arr)\n",
    "num=int(input(\"Enter number to search:\\n\"))\n",
    "print(helper(arr, 0, len(arr)-1, num)+1)"
   ]
  },
  {
   "cell_type": "code",
   "execution_count": 21,
   "id": "ae0e75bc",
   "metadata": {},
   "outputs": [
    {
     "name": "stdout",
     "output_type": "stream",
     "text": [
      "Enter any array:\n",
      "1 2\n"
     ]
    },
    {
     "ename": "IndexError",
     "evalue": "list index out of range",
     "output_type": "error",
     "traceback": [
      "\u001b[1;31m---------------------------------------------------------------------------\u001b[0m",
      "\u001b[1;31mIndexError\u001b[0m                                Traceback (most recent call last)",
      "Cell \u001b[1;32mIn[21], line 18\u001b[0m\n\u001b[0;32m     16\u001b[0m arr\u001b[38;5;241m=\u001b[39m\u001b[38;5;28mlist\u001b[39m(\u001b[38;5;28mmap\u001b[39m(\u001b[38;5;28mint\u001b[39m, \u001b[38;5;28minput\u001b[39m(\u001b[38;5;124m\"\u001b[39m\u001b[38;5;124mEnter any array:\u001b[39m\u001b[38;5;130;01m\\n\u001b[39;00m\u001b[38;5;124m\"\u001b[39m)\u001b[38;5;241m.\u001b[39msplit()))\n\u001b[0;32m     17\u001b[0m ans\u001b[38;5;241m=\u001b[39m[[]]\n\u001b[1;32m---> 18\u001b[0m \u001b[43mhelper\u001b[49m\u001b[43m(\u001b[49m\u001b[43marr\u001b[49m\u001b[43m,\u001b[49m\u001b[43m \u001b[49m\u001b[38;5;241;43m0\u001b[39;49m\u001b[43m,\u001b[49m\u001b[43m \u001b[49m\u001b[43mans\u001b[49m\u001b[43m)\u001b[49m\n\u001b[0;32m     19\u001b[0m \u001b[38;5;28mprint\u001b[39m(ans)\n",
      "Cell \u001b[1;32mIn[21], line 12\u001b[0m, in \u001b[0;36mhelper\u001b[1;34m(arr, idx, ans)\u001b[0m\n\u001b[0;32m     10\u001b[0m ans\u001b[38;5;241m.\u001b[39mextend(ans)\n\u001b[0;32m     11\u001b[0m \u001b[38;5;66;03m#for i in range(ans_len):\u001b[39;00m\n\u001b[1;32m---> 12\u001b[0m \u001b[43mans\u001b[49m\u001b[43m[\u001b[49m\u001b[38;5;28;43mlen\u001b[39;49m\u001b[43m(\u001b[49m\u001b[43marr\u001b[49m\u001b[43m)\u001b[49m\u001b[43m]\u001b[49m\u001b[38;5;241m.\u001b[39mappend(arr[idx])\n\u001b[0;32m     13\u001b[0m \u001b[38;5;28mprint\u001b[39m(ans)\n\u001b[0;32m     14\u001b[0m helper(arr, idx\u001b[38;5;241m+\u001b[39m\u001b[38;5;241m1\u001b[39m, ans)\n",
      "\u001b[1;31mIndexError\u001b[0m: list index out of range"
     ]
    }
   ],
   "source": [
    "# Return subset of Array\n",
    "\n",
    "def helper(arr, idx, ans):\n",
    "    \n",
    "    if(len(arr)==idx):\n",
    "        return\n",
    "    \n",
    "    else:\n",
    "        ans_len=len(ans)\n",
    "        ans.extend(ans)\n",
    "        #for i in range(ans_len):\n",
    "        ans[len(arr)].append(arr[idx])\n",
    "        print(ans)\n",
    "        helper(arr, idx+1, ans)\n",
    "\n",
    "arr=list(map(int, input(\"Enter any array:\\n\").split()))\n",
    "ans=[[]]\n",
    "helper(arr, 0, ans)\n",
    "print(ans)"
   ]
  },
  {
   "cell_type": "code",
   "execution_count": 23,
   "id": "28826433",
   "metadata": {},
   "outputs": [
    {
     "name": "stdout",
     "output_type": "stream",
     "text": [
      "1\n",
      "3\n",
      "5\n",
      "7\n",
      "9\n"
     ]
    }
   ],
   "source": [
    "# itertools for practice\n",
    "\n",
    "from itertools import count\n",
    "\n",
    "for i in count(start=1, step=2):\n",
    "    if(i>10):\n",
    "        break\n",
    "    print(i)"
   ]
  },
  {
   "cell_type": "code",
   "execution_count": 1,
   "id": "18fcd14c",
   "metadata": {},
   "outputs": [
    {
     "name": "stdout",
     "output_type": "stream",
     "text": [
      "Enter any array:\n",
      "1 2 3\n",
      "[[], [1], [2], [1, 2], [3], [1, 3], [2, 3], [1, 2, 3]]\n"
     ]
    }
   ],
   "source": [
    "# Return subset of Array\n",
    "\n",
    "arr=list(map(int, input(\"Enter any array:\\n\").split()))\n",
    "ans=[[]]\n",
    "for i in arr:\n",
    "    ans+=[lst + [i] for lst in ans]\n",
    "print(ans)"
   ]
  },
  {
   "cell_type": "code",
   "execution_count": 5,
   "id": "3ffafb7e",
   "metadata": {},
   "outputs": [
    {
     "name": "stdout",
     "output_type": "stream",
     "text": [
      "Enter a 2d array:\n",
      "2\n",
      "Enter 1 array:\n",
      "1 2\n",
      "Enter 2 array:\n",
      "2 3\n",
      "[[1, 2], [2, 3], [[1, 2], [2, 3], 0], [[1, 2], [2, 3], [[1, 2], [2, 3], 0], 1]]\n"
     ]
    }
   ],
   "source": [
    "n=int(input(\"Enter a 2d array:\\n\"))\n",
    "arr=[]\n",
    "for i in range(n):\n",
    "    num=list(map(int, input(\"Enter {} array:\\n\".format(i+1)).split()))\n",
    "    arr.append(num)\n",
    "    \n",
    "for i in range(len(arr)):\n",
    "    arr+=[arr+[i]]\n",
    "print(arr)"
   ]
  },
  {
   "cell_type": "code",
   "execution_count": 6,
   "id": "9dfcb7b5",
   "metadata": {},
   "outputs": [
    {
     "name": "stdout",
     "output_type": "stream",
     "text": [
      "Enter a 2d array:\n",
      "2\n",
      "Enter 1 array:\n",
      "1 2\n",
      "Enter 2 array:\n",
      "2 3\n",
      "[[1, 2], [2, 3], [[1, 2], [2, 3], 0], [[1, 2], [2, 3], [[1, 2], [2, 3], 0], 1]]\n"
     ]
    }
   ],
   "source": [
    "n=int(input(\"Enter a 2d array:\\n\"))\n",
    "arr=[]\n",
    "for i in range(n):\n",
    "    num=list(map(int, input(\"Enter {} array:\\n\".format(i+1)).split()))\n",
    "    arr.append(num)\n",
    "    \n",
    "for i in range(n):\n",
    "    arr+=[arr+[i]]\n",
    "print(arr)"
   ]
  },
  {
   "cell_type": "code",
   "execution_count": null,
   "id": "65af3a83",
   "metadata": {},
   "outputs": [],
   "source": []
  }
 ],
 "metadata": {
  "kernelspec": {
   "display_name": "Python 3 (ipykernel)",
   "language": "python",
   "name": "python3"
  },
  "language_info": {
   "codemirror_mode": {
    "name": "ipython",
    "version": 3
   },
   "file_extension": ".py",
   "mimetype": "text/x-python",
   "name": "python",
   "nbconvert_exporter": "python",
   "pygments_lexer": "ipython3",
   "version": "3.10.9"
  }
 },
 "nbformat": 4,
 "nbformat_minor": 5
}
