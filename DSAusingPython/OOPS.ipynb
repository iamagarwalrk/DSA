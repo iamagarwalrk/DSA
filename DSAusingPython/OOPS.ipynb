{
 "cells": [
  {
   "cell_type": "markdown",
   "id": "aa7e7841",
   "metadata": {},
   "source": [
    "# OOPS"
   ]
  },
  {
   "cell_type": "code",
   "execution_count": 11,
   "id": "3caaa715",
   "metadata": {},
   "outputs": [
    {
     "name": "stdout",
     "output_type": "stream",
     "text": [
      "Unregistered 0 0.0\n",
      "Animal is created\n",
      "Kangaroo is created\n",
      "Animal is created\n",
      "Kangaroo is created\n",
      "I am Kangaroo\n",
      "I am animal\n"
     ]
    }
   ],
   "source": [
    "# class\n",
    "\n",
    "class student():\n",
    "    \n",
    "    def __init__(self): # self is compulsory\n",
    "        self.name=\"Unregistered\" \n",
    "        self.age=0\n",
    "        self.grade=0.00\n",
    "\n",
    "Rk_Agarwal=student()\n",
    "print(Rk_Agarwal.name, Rk_Agarwal.age, Rk_Agarwal.grade)\n",
    "\n",
    "#inheritance\n",
    "\n",
    "class animal():\n",
    "    \n",
    "    def __init__(self):\n",
    "        print(\"Animal is created\")\n",
    "    def fame(self):\n",
    "        print(\"I am animal\")\n",
    "        \n",
    "# child class\n",
    "\n",
    "class kangaroo(animal):\n",
    "    \n",
    "    def __init__(self):\n",
    "        super().__init__()\n",
    "        print(\"Kangaroo is created\")\n",
    "    def name(self):\n",
    "        print(\"I am Kangaroo\")\n",
    "        \n",
    "kan=kangaroo()\n",
    "kan.__init__()\n",
    "kan.name()\n",
    "kan.fame()"
   ]
  },
  {
   "cell_type": "code",
   "execution_count": 12,
   "id": "ab4c2ada",
   "metadata": {},
   "outputs": [],
   "source": [
    "# Inner class\n",
    "\n",
    "class outer:\n",
    "    \n",
    "    class inner:\n",
    "        pass\n",
    "    \n",
    "    class Inner:\n",
    "        pass\n",
    "    \n",
    "pass"
   ]
  },
  {
   "cell_type": "code",
   "execution_count": 3,
   "id": "f1e3d3c0",
   "metadata": {},
   "outputs": [
    {
     "name": "stdout",
     "output_type": "stream",
     "text": [
      "Rishabh\n",
      "25\n",
      "love you 1000 times\n"
     ]
    }
   ],
   "source": [
    "class Class:\n",
    "    \n",
    "    name=\"Rishabh\"\n",
    "    _age=25\n",
    "    __gender=\"M\"\n",
    "    \n",
    "    def __del__(self):\n",
    "        print(\"love you 1000 times\")\n",
    "    \n",
    "R1=Class()\n",
    "print(R1.name) # Public\n",
    "print(R1._age) # Protected\n",
    "# print(R1.__gender) # Private\n",
    "\n",
    "del R1"
   ]
  },
  {
   "cell_type": "code",
   "execution_count": 2,
   "id": "7d13e649",
   "metadata": {},
   "outputs": [
    {
     "name": "stdout",
     "output_type": "stream",
     "text": [
      "meow meow\n",
      "Quack\n",
      "Woof Woof\n"
     ]
    }
   ],
   "source": [
    "# Duck Typing\n",
    "\n",
    "class Duck:\n",
    "    \n",
    "    def sound(self):\n",
    "        print(\"Quack\")\n",
    "\n",
    "class Dog:\n",
    "    \n",
    "    def sound(self):\n",
    "        print(\"Woof Woof\")\n",
    "        \n",
    "class Cat:\n",
    "    def __init__(self):\n",
    "        print(\"meow meow\")\n",
    "\n",
    "def allSound(o):\n",
    "    if hasattr(o, \"sound\") and callable(o.sound): # check has attribute or not and callable check it is function or not\n",
    "        o.sound()\n",
    "        \n",
    "duck, dog, cat=Duck(), Dog(), Cat()\n",
    "allSound(duck)\n",
    "allSound(dog)\n",
    "allSound(cat)"
   ]
  },
  {
   "cell_type": "code",
   "execution_count": 24,
   "id": "0b5ffab8",
   "metadata": {},
   "outputs": [
    {
     "name": "stdout",
     "output_type": "stream",
     "text": [
      "class: Library <numBook: 120> <capacity: 234>\n",
      "Good\n",
      "class: Library <numBook: 140> <capacity: 258>\n"
     ]
    }
   ],
   "source": [
    "# Special Function /Magic Methods\n",
    "\n",
    "class Library:\n",
    "    \n",
    "    numBook=1000\n",
    "    capacity=50\n",
    "    \n",
    "    def __init__(self, numBook, capacity):\n",
    "        self.capacity=capacity\n",
    "        self.numBook=numBook\n",
    "    \n",
    "    def __str__(self): # to return string\n",
    "        return \"class: Library <numBook: {}> <capacity: {}>\".format(self.numBook, self.capacity)\n",
    "    \n",
    "    def __add__(self, Lib2):\n",
    "        new_numBook=self.numBook+Lib2.numBook\n",
    "        new_capacity=self.capacity+Lib2.capacity\n",
    "        return Library(new_numBook, new_capacity)\n",
    "        \n",
    "    def __lt__(self, Lib2): #lower than operation\n",
    "        if self.numBook!=Lib2.numBook: return True\n",
    "        else: return False\n",
    "        \n",
    "    \n",
    "Lib1=Library(120, 234)\n",
    "Lib2=Library(20, 24)\n",
    "print(Lib1) # call string function\n",
    "if Lib1!=Lib2: print(\"Good\") # call lt funtion\n",
    "new=Lib1+Lib2 # add operator\n",
    "print(new)"
   ]
  },
  {
   "cell_type": "code",
   "execution_count": 5,
   "id": "379942a7",
   "metadata": {},
   "outputs": [
    {
     "name": "stdout",
     "output_type": "stream",
     "text": [
      "1\n",
      "2\n",
      "3\n",
      "4\n",
      "1+i2\n",
      "3+i4\n",
      "4+i6\n",
      "12+i24\n"
     ]
    }
   ],
   "source": [
    "# Complex Number Class\n",
    "\n",
    "class ComplexNumber:\n",
    "    \n",
    "    def __init__(self, R, I):\n",
    "        self.R=R\n",
    "        self.I=I\n",
    "    \n",
    "    def plus(self, CN):\n",
    "        self.R=self.R+CN.R\n",
    "        self.I=self.I+CN.I\n",
    "    \n",
    "    def multiply(self, CN):\n",
    "        self.R=self.R*CN.R\n",
    "        self.I=self.I*CN.I\n",
    "    \n",
    "    def printCN(self):\n",
    "        print(f\"{self.R}+i{self.I}\")\n",
    "    \n",
    "a=int(input())\n",
    "b=int(input())\n",
    "c=int(input())\n",
    "d=int(input())\n",
    "CN1=ComplexNumber(a, b)\n",
    "CN2=ComplexNumber(c, d)\n",
    "CN1.printCN()\n",
    "CN2.printCN()\n",
    "CN1.plus(CN2)\n",
    "CN1.printCN()\n",
    "CN1.multiply(CN2)\n",
    "CN1.printCN()"
   ]
  },
  {
   "cell_type": "code",
   "execution_count": 13,
   "id": "e21a49c4",
   "metadata": {},
   "outputs": [
    {
     "name": "stdout",
     "output_type": "stream",
     "text": [
      "21\n",
      "51\n",
      "This is Student Class .... in abc module\n"
     ]
    }
   ],
   "source": [
    "# Instance, Class & Static method\n",
    "\n",
    "class Student:\n",
    "    \n",
    "    Class_size=50\n",
    "    \n",
    "    def __init__(self, Roll_No):\n",
    "        self.RollNo=Roll_No\n",
    "        Student.plus() #you cant added in the class attribute directly\n",
    "    \n",
    "    def print_object(self): #Instance Method\n",
    "        print(self.RollNo)\n",
    "    \n",
    "    @classmethod\n",
    "    def plus(cls):\n",
    "        cls.Class_size+=1\n",
    "        \n",
    "    @classmethod\n",
    "    def classinfo(cls):\n",
    "        print(cls.Class_size)\n",
    "        \n",
    "    @staticmethod \n",
    "    def  info():\n",
    "        print(\"This is Student Class .... in abc module\")\n",
    "    \n",
    "s1=Student(21)\n",
    "s1.print_object()\n",
    "Student.classinfo()\n",
    "Student.info()"
   ]
  },
  {
   "cell_type": "code",
   "execution_count": 15,
   "id": "fed1fa90",
   "metadata": {},
   "outputs": [
    {
     "name": "stdout",
     "output_type": "stream",
     "text": [
      "13\n",
      "1352\n"
     ]
    }
   ],
   "source": [
    "#Inner Class\n",
    "\n",
    "class student:\n",
    "    \n",
    "    def __init__(self, rollno, laptop_no):\n",
    "        self.rollno=rollno\n",
    "        self.laptop=self.Laptop(laptop_no)\n",
    "        \n",
    "    def show(self):\n",
    "        print(self.rollno)\n",
    "        self.laptop.show()\n",
    "        \n",
    "    class Laptop:\n",
    "        \n",
    "        def __init__(self, laptop_no):\n",
    "            self.laptop_no=laptop_no\n",
    "            \n",
    "        def show(self):\n",
    "            print(self.laptop_no)\n",
    "\n",
    "s1=student(13, 1352)\n",
    "s1.show()"
   ]
  },
  {
   "cell_type": "code",
   "execution_count": 21,
   "id": "503f3882",
   "metadata": {
    "scrolled": true
   },
   "outputs": [
    {
     "name": "stdout",
     "output_type": "stream",
     "text": [
      "1 2 3 4 5\n",
      "6 7 8 9 10\n",
      "11\n",
      "[7, 9, 11, 13, 15, 11]\n",
      "[-5, -5, -5, -5, -5, 11]\n",
      "[6, 14, 24, 36, 50, 0]\n",
      "1x0 2x1 3x2 4x3 5x4 11x5 "
     ]
    }
   ],
   "source": [
    "# Code : Polynomial Class\n",
    "\n",
    "class Polynomial:\n",
    "    \n",
    "    def __init__(self, arr):\n",
    "        self.Coef=arr\n",
    "    \n",
    "    def setCoef(self, ele):\n",
    "        self.Coef.append(ele)\n",
    "        \n",
    "    def __str__(self):\n",
    "        return str(self.Coef)\n",
    "    \n",
    "    def __add__(self, P):\n",
    "        \n",
    "        n1=len(self.Coef)\n",
    "        n2=len(P.Coef)\n",
    "        ans=[]\n",
    "        \n",
    "        for i in range(min(n1, n2)):\n",
    "            ans.append(self.Coef[i]+P.Coef[i])\n",
    "        \n",
    "        if(n1<n2):\n",
    "            for i in range(n1, n2):\n",
    "                ans.append(P.Coef[i])\n",
    "        else:\n",
    "            for i in range(n2, n1):\n",
    "                ans.append(self.Coef[i])\n",
    "        return ans\n",
    "    \n",
    "    def __sub__(self, P):\n",
    "        n1=min(len(self.Coef), len(P.Coef))\n",
    "        n2=max(len(self.Coef), len(P.Coef))\n",
    "        ans=[]\n",
    "        \n",
    "        for i in range(n1):\n",
    "            ans.append(self.Coef[i]-P.Coef[i])\n",
    "        \n",
    "        for i in range(n1, n2):\n",
    "            if(n2==len(self.Coef)):\n",
    "                ans.append(self.Coef[i])\n",
    "            else:\n",
    "                ans.append(-P.Coef[i])\n",
    "        return ans\n",
    "        \n",
    "    def __mul__(self, P):\n",
    "        n1=len(self.Coef)\n",
    "        n2=len(P.Coef)\n",
    "        ans=[]\n",
    "        \n",
    "        for i in range(min(n1, n2)):\n",
    "            ans.append(self.Coef[i]*P.Coef[i])\n",
    "        \n",
    "        for i in range(min(n1, n2), max(n1, n2)):\n",
    "            ans.append(0)\n",
    "        \n",
    "        return ans\n",
    "    \n",
    "    def print(self):\n",
    "        \n",
    "        for i in range(len(self.Coef)):\n",
    "            print(\"{}x{}\".format(self.Coef[i], i), end=\" \")\n",
    "        \n",
    "arr=list(map(int, input().split()))\n",
    "P1=Polynomial(arr)\n",
    "arr=list(map(int, input().split()))\n",
    "P2=Polynomial(arr)\n",
    "\n",
    "P1.setCoef(int(input()))\n",
    "\n",
    "print(P1+P2)\n",
    "print(P1-P2)\n",
    "print(P1*P2)\n",
    "#print(P1=P2) # there is no assignment operator magic method\n",
    "P1.print()"
   ]
  },
  {
   "cell_type": "code",
   "execution_count": null,
   "id": "5501561f",
   "metadata": {},
   "outputs": [],
   "source": []
  }
 ],
 "metadata": {
  "kernelspec": {
   "display_name": "Python 3 (ipykernel)",
   "language": "python",
   "name": "python3"
  },
  "language_info": {
   "codemirror_mode": {
    "name": "ipython",
    "version": 3
   },
   "file_extension": ".py",
   "mimetype": "text/x-python",
   "name": "python",
   "nbconvert_exporter": "python",
   "pygments_lexer": "ipython3",
   "version": "3.10.9"
  }
 },
 "nbformat": 4,
 "nbformat_minor": 5
}
